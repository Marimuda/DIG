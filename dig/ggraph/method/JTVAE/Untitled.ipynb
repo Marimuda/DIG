{
 "cells": [
  {
   "cell_type": "code",
   "execution_count": 18,
   "id": "0d0e5d3a-908c-4640-a009-92b969381bda",
   "metadata": {},
   "outputs": [],
   "source": [
    "import torch_geometric as tg\n",
    "from rdkit import Chem\n",
    "from tqdm import tqdm\n",
    "from mol_tree import MolTree"
   ]
  },
  {
   "cell_type": "code",
   "execution_count": 9,
   "id": "eedd22a8-4823-4aeb-a8f8-2e630d947399",
   "metadata": {},
   "outputs": [],
   "source": [
    "with open(\"datasets/moses.csv\", \"r\") as f:\n",
    "    smiles_list = f.read().splitlines()[1:]"
   ]
  },
  {
   "cell_type": "code",
   "execution_count": 12,
   "id": "f59fa36c-f50d-469b-ae87-db5d75df5e2d",
   "metadata": {},
   "outputs": [],
   "source": [
    "mols = []\n",
    "\n",
    "for smiles in smiles_list[:4]:\n",
    "    mols.append(Chem.MolFromSmiles(smiles))"
   ]
  },
  {
   "cell_type": "code",
   "execution_count": 26,
   "id": "d89bff45-75f4-4a6e-8cc5-cf62c258d055",
   "metadata": {},
   "outputs": [
    {
     "data": {
      "text/plain": [
       "(tensor([[ 0,  0,  1,  1,  2,  3,  3,  4,  4,  5,  6,  6,  7,  7,  8,  8,  9, 10,\n",
       "          10, 11, 12, 12, 12, 13, 13, 13],\n",
       "         [ 1,  6,  0,  7,  3,  2,  4,  3, 12, 12,  0, 12,  1,  8,  7, 13, 13, 11,\n",
       "          13, 10,  4,  5,  6,  8,  9, 10]]),\n",
       " tensor([[ 0,  1,  1,  2,  2,  3,  3,  3,  3,  4,  5,  5,  6,  7,  8,  8,  9, 10,\n",
       "          10, 11, 11, 12, 12, 12, 12, 13, 14, 14, 15, 16, 17, 17, 18],\n",
       "         [ 2,  2,  3,  3,  4,  4,  5,  6, 12,  5,  0,  6,  0,  0,  0,  1,  1,  1,\n",
       "           7,  7,  8,  8,  9, 10, 13,  9, 10, 11, 11,  1,  0,  1,  0]]),\n",
       " 14,\n",
       " tensor([0, 0, 1, 1, 1, 1, 1, 1, 1, 1, 1, 1, 3, 3]))"
      ]
     },
     "execution_count": 26,
     "metadata": {},
     "output_type": "execute_result"
    }
   ],
   "source": [
    "tg.utils.tree_decomposition(mols[0], return_vocab=True)"
   ]
  },
  {
   "cell_type": "code",
   "execution_count": 27,
   "id": "ca01e7ff-1a16-46b4-92e3-f2ce500bfdd0",
   "metadata": {},
   "outputs": [
    {
     "data": {
      "text/plain": [
       "([[0, 1],\n",
       "  [1, 2],\n",
       "  [2, 3],\n",
       "  [3, 4],\n",
       "  [3, 5],\n",
       "  [10, 11],\n",
       "  [11, 12],\n",
       "  [12, 13],\n",
       "  [12, 14],\n",
       "  [14, 15],\n",
       "  [5, 18, 17, 8, 7, 6],\n",
       "  [9, 8, 17, 16, 10],\n",
       "  [3],\n",
       "  [12]],\n",
       " [(0, 1),\n",
       "  (1, 2),\n",
       "  (2, 12),\n",
       "  (3, 12),\n",
       "  (4, 10),\n",
       "  (4, 12),\n",
       "  (5, 6),\n",
       "  (5, 11),\n",
       "  (6, 13),\n",
       "  (7, 13),\n",
       "  (8, 9),\n",
       "  (8, 13),\n",
       "  (10, 11)])"
      ]
     },
     "execution_count": 27,
     "metadata": {},
     "output_type": "execute_result"
    }
   ],
   "source": [
    "tree_decomp(mols[0])"
   ]
  },
  {
   "cell_type": "code",
   "execution_count": 19,
   "id": "8e76f94f-41a1-476d-a41e-9406a31436f6",
   "metadata": {},
   "outputs": [
    {
     "name": "stderr",
     "output_type": "stream",
     "text": [
      "100%|██████████| 1000/1000 [00:05<00:00, 175.18it/s]\n"
     ]
    }
   ],
   "source": [
    "cset = set()\n",
    "with open(\"datasets/moses.csv\", \"r\") as f:\n",
    "    list_smiles = f.read().splitlines()[1:][:1000]  # TODO Remove this cap\n",
    "    for smiles in tqdm(list_smiles):\n",
    "        mol = MolTree(smiles)\n",
    "        for c in mol.nodes:\n",
    "            cset.add(c.smiles)"
   ]
  },
  {
   "cell_type": "code",
   "execution_count": 28,
   "id": "c10058c9-7cc2-4a48-81d4-7b395fed1692",
   "metadata": {},
   "outputs": [
    {
     "data": {
      "text/plain": [
       "['C1COCO1',\n",
       " 'C1=COCC1',\n",
       " 'C1CCNCC1',\n",
       " 'C1=CCNCC1',\n",
       " 'C1=CCNC=C1',\n",
       " 'C1=C[NH]N=C1',\n",
       " 'C1=NOC=N1',\n",
       " 'C=O',\n",
       " 'C1CNCCOC1',\n",
       " 'C1=CN=CN=C1',\n",
       " 'C1=N[NH]C=N1',\n",
       " 'C1=CNCCN=C1',\n",
       " 'C1=CCOC1',\n",
       " 'C1=NN=CS1',\n",
       " 'C1=N[NH]N=N1',\n",
       " 'C1CCOCC1',\n",
       " 'C1=COC=N1',\n",
       " 'C1CNCSC1',\n",
       " 'C1=COC=CC1',\n",
       " 'C1=CCCC=C1',\n",
       " 'C1=CNCN=C1',\n",
       " 'CO',\n",
       " 'C1CNCNC1',\n",
       " 'C1=CN=CNC1',\n",
       " 'C1=NNCCC1',\n",
       " 'C1=CSC=C1',\n",
       " 'CN',\n",
       " 'C1COCCN1',\n",
       " 'C1CNCN1',\n",
       " 'C1=CCCCC1',\n",
       " 'C1COCN1',\n",
       " 'C1=COCCC1',\n",
       " 'C1=CCCC1',\n",
       " 'C1=CCNN=C1',\n",
       " 'C1=CNCCNC1',\n",
       " 'C1=CC=CC=C1',\n",
       " 'C=N',\n",
       " 'C1=NNCN1',\n",
       " 'C1=NC=NC=N1',\n",
       " 'C1CCCNCC1',\n",
       " 'S',\n",
       " 'C1=NCCS1',\n",
       " 'C1=CNCN1',\n",
       " 'NS',\n",
       " 'C1=NCNC1',\n",
       " 'C1=CSCCC1',\n",
       " 'C1CC1',\n",
       " 'C1=COC=C1',\n",
       " 'CC',\n",
       " 'C1=NNCC1',\n",
       " 'CS',\n",
       " 'C1=CNCCC1',\n",
       " 'C1CNSC1',\n",
       " 'C1=CNCNC1',\n",
       " 'C1=NCCN1',\n",
       " 'CF',\n",
       " 'NN',\n",
       " 'C1=C[NH]C=C1',\n",
       " 'C1=CNCCCN1',\n",
       " 'C1=NCCO1',\n",
       " 'C1=CCNC1',\n",
       " 'C1=NN=C[NH]1',\n",
       " 'C1=CCOC=C1',\n",
       " 'C1=NOCN1',\n",
       " 'C1=CNCC1',\n",
       " 'C1=NCCNCC1',\n",
       " 'C1CSCN1',\n",
       " 'N',\n",
       " 'C1=NN=N[NH]1',\n",
       " 'C1=CN=NC=C1',\n",
       " 'C1CCNC1',\n",
       " 'CBr',\n",
       " 'C1=NSCCN1',\n",
       " 'C1=CSC=N1',\n",
       " 'C1=CCOCC1',\n",
       " 'C1CCSNC1',\n",
       " 'C1=NC=NN=C1',\n",
       " 'C1=CNN=CC1',\n",
       " 'C1=NCCCC1',\n",
       " 'C',\n",
       " 'C1CCCC1',\n",
       " 'C1=CN=CCC1',\n",
       " 'C1=NCCCN1',\n",
       " 'C1=NNCS1',\n",
       " 'C1=CNNC1',\n",
       " 'C1CCCCC1',\n",
       " 'C1CNCCNC1',\n",
       " 'C1=NNCCCC1',\n",
       " 'C1=NC=NCC1',\n",
       " 'C1COCOC1',\n",
       " 'C1=NN=CNC1',\n",
       " 'C1=CSCC1',\n",
       " 'C1=CC=NC=C1',\n",
       " 'C1=NON=C1',\n",
       " 'C1=CN=CCNC1',\n",
       " 'C#N',\n",
       " 'C1=CSN=C1',\n",
       " 'C1CCOC1',\n",
       " 'C1=CON=C1',\n",
       " 'C1CCCCCC1',\n",
       " 'C1=CCNCCC1',\n",
       " 'C1=COCO1',\n",
       " 'C1=CCCN=C1',\n",
       " 'C1=CNC=NC1',\n",
       " 'CCl',\n",
       " 'O=S',\n",
       " 'C1CNCCN1',\n",
       " 'C1=C[NH]C=N1',\n",
       " 'C1CCC1',\n",
       " 'C1=CNC=CC1',\n",
       " 'C1CC2CCC1C2',\n",
       " 'C#C',\n",
       " 'C1=C[NH]N=N1',\n",
       " 'C1=CCN=CC1',\n",
       " 'C1=CN=CC=N1',\n",
       " 'C=C',\n",
       " 'C1=CCC=C1',\n",
       " 'C1=CSCN1']"
      ]
     },
     "execution_count": 28,
     "metadata": {},
     "output_type": "execute_result"
    }
   ],
   "source": [
    "list(cset)"
   ]
  },
  {
   "cell_type": "code",
   "execution_count": 23,
   "id": "c771b220-9d25-4aff-a09f-7ccacaeba6f7",
   "metadata": {},
   "outputs": [],
   "source": [
    "from chemutils import tree_decomp"
   ]
  },
  {
   "cell_type": "code",
   "execution_count": null,
   "id": "3469d235-6328-4507-9c99-fa061b54c680",
   "metadata": {},
   "outputs": [],
   "source": []
  }
 ],
 "metadata": {
  "kernelspec": {
   "display_name": "Python [conda env:jtvae37f] *",
   "language": "python",
   "name": "conda-env-jtvae37f-py"
  },
  "language_info": {
   "codemirror_mode": {
    "name": "ipython",
    "version": 3
   },
   "file_extension": ".py",
   "mimetype": "text/x-python",
   "name": "python",
   "nbconvert_exporter": "python",
   "pygments_lexer": "ipython3",
   "version": "3.7.10"
  }
 },
 "nbformat": 4,
 "nbformat_minor": 5
}
