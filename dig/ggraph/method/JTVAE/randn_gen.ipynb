{
 "cells": [
  {
   "cell_type": "code",
   "execution_count": 1,
   "id": "a0feb913-2dfa-478a-bfcf-dc432115645d",
   "metadata": {},
   "outputs": [],
   "source": [
    "import sys\n",
    "sys.path.append('../../../../')"
   ]
  },
  {
   "cell_type": "code",
   "execution_count": 2,
   "id": "459e0f88-d655-4b86-8701-718c4a077b36",
   "metadata": {},
   "outputs": [
    {
     "name": "stderr",
     "output_type": "stream",
     "text": [
      "/data/bora.oztekin/anaconda3/envs/jtvae37f/lib/python3.7/importlib/_bootstrap.py:219: RuntimeWarning: to-Python converter for boost::shared_ptr<RDKit::FilterCatalogEntry const> already registered; second conversion method ignored.\n",
      "  return f(*args, **kwds)\n"
     ]
    }
   ],
   "source": [
    "%load_ext autoreload\n",
    "%autoreload 2\n",
    "\n",
    "import torch\n",
    "from jtvae import JTVAE\n",
    "from datautils import MolTreeFolder, PairTreeFolder, MolTreeDataset\n",
    "\n",
    "path_adj = \"./\""
   ]
  },
  {
   "cell_type": "code",
   "execution_count": 3,
   "id": "9e2ee3e3-bd0d-4926-a8ac-781c4ccc6126",
   "metadata": {},
   "outputs": [],
   "source": [
    "from rdkit import Chem\n",
    "from rdkit import RDLogger\n",
    "RDLogger.DisableLog('rdApp.*')"
   ]
  },
  {
   "cell_type": "code",
   "execution_count": 4,
   "id": "32832458-342a-4287-ba85-5404f9a4f86e",
   "metadata": {},
   "outputs": [],
   "source": [
    "from dig.ggraph.dataset import ZINC800\n",
    "from dig.ggraph.evaluation import Rand_Gen_Evaluator"
   ]
  },
  {
   "cell_type": "code",
   "execution_count": 5,
   "id": "5c333cf4-62a0-4557-aea2-1e4a1f536f24",
   "metadata": {},
   "outputs": [],
   "source": [
    "dataset = ZINC800(one_shot=False, root=path_adj+'./datasets')"
   ]
  },
  {
   "cell_type": "code",
   "execution_count": 6,
   "id": "928a1262-ccb7-481b-9dd7-6b5ed42c1d9a",
   "metadata": {},
   "outputs": [],
   "source": [
    "zinc_800_jt = torch.load(path_adj+\"datasets/zinc_800_jt/processed/data.pt\")"
   ]
  },
  {
   "cell_type": "code",
   "execution_count": 7,
   "id": "17c24f94-45e2-4aa9-abdb-52d0b68d011e",
   "metadata": {},
   "outputs": [],
   "source": [
    "smiles = zinc_800_jt[-1]"
   ]
  },
  {
   "cell_type": "code",
   "execution_count": 8,
   "id": "bfd4769a-5512-4ee6-acf2-156e739a12f9",
   "metadata": {},
   "outputs": [
    {
     "name": "stderr",
     "output_type": "stream",
     "text": [
      "/data/bora.oztekin/anaconda3/envs/jtvae37f/lib/python3.7/site-packages/torch/nn/_reduction.py:42: UserWarning: size_average and reduce args will be deprecated, please use reduction='sum' instead.\n",
      "  warnings.warn(warning.format(ret))\n"
     ]
    }
   ],
   "source": [
    "# Define model\n",
    "jtvae = JTVAE(smiles)"
   ]
  },
  {
   "cell_type": "code",
   "execution_count": 9,
   "id": "96b39234-7395-4462-ac48-eef302ba0d8d",
   "metadata": {},
   "outputs": [
    {
     "name": "stderr",
     "output_type": "stream",
     "text": [
      "100%|██████████| 20/20 [00:05<00:00,  3.63it/s]\n"
     ]
    }
   ],
   "source": [
    "preprocessed = jtvae.preprocess(smiles[:20])"
   ]
  },
  {
   "cell_type": "code",
   "execution_count": 10,
   "id": "6264b23f-e16b-41c7-85eb-96fd0cda9b96",
   "metadata": {},
   "outputs": [
    {
     "name": "stdout",
     "output_type": "stream",
     "text": [
      "Model #Params: 4862K\n"
     ]
    },
    {
     "name": "stderr",
     "output_type": "stream",
     "text": [
      "/data/bora.oztekin/anaconda3/envs/jtvae37f/lib/python3.7/site-packages/torch/optim/lr_scheduler.py:134: UserWarning: Detected call of `lr_scheduler.step()` before `optimizer.step()`. In PyTorch 1.1.0 and later, you should call them in the opposite order: `optimizer.step()` before `lr_scheduler.step()`.  Failure to do this will result in PyTorch skipping the first value of the learning rate schedule. See more details at https://pytorch.org/docs/stable/optim.html#how-to-adjust-learning-rate\n",
      "  \"https://pytorch.org/docs/stable/optim.html#how-to-adjust-learning-rate\", UserWarning)\n"
     ]
    }
   ],
   "source": [
    "loader = MolTreeFolder(preprocessed, jtvae.vocab, 32, num_workers=4)\n",
    "load_epoch = 0\n",
    "lr = 1e-3\n",
    "anneal_rate = 0.9\n",
    "clip_norm = 50.0\n",
    "num_epochs = 1\n",
    "total_step = 0  # TODO args.load_epoch\n",
    "beta = 0.0  # TODO args.beta\n",
    "jtvae.train_rand_gen(loader, load_epoch, lr, anneal_rate, clip_norm, num_epochs)"
   ]
  },
  {
   "cell_type": "code",
   "execution_count": 11,
   "id": "d1f4d622-6cc7-473a-85dc-2a86185278a3",
   "metadata": {},
   "outputs": [
    {
     "name": "stderr",
     "output_type": "stream",
     "text": [
      "/data/bora.oztekin/anaconda3/envs/jtvae37f/lib/python3.7/site-packages/torch/nn/functional.py:1709: UserWarning: nn.functional.sigmoid is deprecated. Use torch.sigmoid instead.\n",
      "  warnings.warn(\"nn.functional.sigmoid is deprecated. Use torch.sigmoid instead.\")\n",
      "/data/bora.oztekin/anaconda3/envs/jtvae37f/lib/python3.7/site-packages/torch/nn/functional.py:1698: UserWarning: nn.functional.tanh is deprecated. Use torch.tanh instead.\n",
      "  warnings.warn(\"nn.functional.tanh is deprecated. Use torch.tanh instead.\")\n"
     ]
    }
   ],
   "source": [
    "samples = list(map(Chem.MolFromSmiles, jtvae.run_rand_gen(30)))"
   ]
  },
  {
   "cell_type": "code",
   "execution_count": 12,
   "id": "710f8ff8-9772-4a04-a649-163db82a3903",
   "metadata": {},
   "outputs": [
    {
     "name": "stdout",
     "output_type": "stream",
     "text": [
      "Valid Ratio: 30/30 = 100.00%\n",
      "Unique Ratio: 21/30 = 70.00%\n",
      "Novel Ratio: 30/30 = 100.00%\n",
      "{'valid_ratio': 100.0, 'unique_ratio': 70.0, 'novel_ratio': 100.0}\n"
     ]
    }
   ],
   "source": [
    "res_dict = {'mols': samples, 'train_smiles': smiles}\n",
    "evaluator = Rand_Gen_Evaluator()\n",
    "results = evaluator.eval(res_dict)\n",
    "print(results)"
   ]
  },
  {
   "cell_type": "code",
   "execution_count": null,
   "id": "bcfb7ca7-3a8b-45a3-adac-2f26c4b1cef5",
   "metadata": {},
   "outputs": [],
   "source": []
  }
 ],
 "metadata": {
  "kernelspec": {
   "display_name": "Python [conda env:jtvae37f] *",
   "language": "python",
   "name": "conda-env-jtvae37f-py"
  },
  "language_info": {
   "codemirror_mode": {
    "name": "ipython",
    "version": 3
   },
   "file_extension": ".py",
   "mimetype": "text/x-python",
   "name": "python",
   "nbconvert_exporter": "python",
   "pygments_lexer": "ipython3",
   "version": "3.7.10"
  }
 },
 "nbformat": 4,
 "nbformat_minor": 5
}
