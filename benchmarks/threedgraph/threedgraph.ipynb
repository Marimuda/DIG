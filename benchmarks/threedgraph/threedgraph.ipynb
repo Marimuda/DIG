{
 "cells": [
  {
   "cell_type": "markdown",
   "metadata": {},
   "source": [
    "## Example of 3D Graph"
   ]
  },
  {
   "cell_type": "code",
   "execution_count": 1,
   "metadata": {},
   "outputs": [],
   "source": [
    "import os\n",
    "import torch\n",
    "from torch_geometric.data import DataLoader\n",
    "import sys\n",
    "sys.path.insert(0,'..')\n",
    "sys.path.insert(0,'../..')\n",
    "from dig.threedgraph.dataset import QM9_3D\n",
    "from dig.threedgraph.method import SchNet\n",
    "from dig.threedgraph.method import DimeNetPP\n",
    "from dig.threedgraph.method import SphereNet\n",
    "from dig.threedgraph.method import run\n",
    "from dig.threedgraph.evaluation import threedEvaluator"
   ]
  },
  {
   "cell_type": "code",
   "execution_count": 2,
   "metadata": {},
   "outputs": [],
   "source": [
    "device = torch.device('cuda:1') if torch.cuda.is_available() else torch.device(\"cpu\")"
   ]
  },
  {
   "cell_type": "markdown",
   "metadata": {},
   "source": [
    "### Prepare Dataset"
   ]
  },
  {
   "cell_type": "code",
   "execution_count": 3,
   "metadata": {},
   "outputs": [
    {
     "output_type": "stream",
     "name": "stdout",
     "text": [
      "train, validaion, test: 110000 10000 10831\n"
     ]
    }
   ],
   "source": [
    "dataset = QM9_3D(root='dataset/')\n",
    "target = 'U0'\n",
    "dataset.data.y = dataset.data[target]\n",
    "\n",
    "split_idx = dataset.get_idx_split(len(dataset.data.y), train_size=110000, valid_size=10000, seed=42)\n",
    "\n",
    "train_dataset, valid_dataset, test_dataset = dataset[split_idx['train']], dataset[split_idx['valid']], dataset[split_idx['test']]\n",
    "print('train, validaion, test:', len(train_dataset), len(valid_dataset), len(test_dataset))"
   ]
  },
  {
   "cell_type": "markdown",
   "metadata": {},
   "source": [
    "### Training"
   ]
  },
  {
   "cell_type": "code",
   "execution_count": 4,
   "metadata": {},
   "outputs": [],
   "source": [
    "model = SchNet()\n",
    "loss_func = torch.nn.L1Loss()\n",
    "evaluation = threedEvaluator()"
   ]
  },
  {
   "cell_type": "code",
   "execution_count": 5,
   "metadata": {},
   "outputs": [
    {
     "output_type": "stream",
     "name": "stdout",
     "text": [
      "\n",
      "=====Epoch 1\n",
      "\n",
      "Training...\n",
      "100%|██████████| 860/860 [01:25<00:00, 10.01it/s]\n",
      "\n",
      "Evaluating...\n",
      "\n",
      "100%|██████████| 79/79 [00:05<00:00, 13.58it/s]\n",
      "\n",
      "Testing...\n",
      "\n",
      "100%|██████████| 85/85 [00:05<00:00, 14.62it/s]\n",
      "{'Train': 0.9855780021915602, 'Validation': 0.22591181099414825, 'Test': 0.22721393406391144}\n",
      "\n",
      "=====Epoch 2\n",
      "\n",
      "Training...\n",
      "\n",
      "100%|██████████| 860/860 [00:51<00:00, 16.73it/s]\n",
      "\n",
      "Evaluating...\n",
      "\n",
      "100%|██████████| 79/79 [00:02<00:00, 32.97it/s]\n",
      "\n",
      "Testing...\n",
      "\n",
      "100%|██████████| 85/85 [00:02<00:00, 31.71it/s]\n",
      "{'Train': 0.26047287720233897, 'Validation': 0.2600099444389343, 'Test': 0.25914502143859863}\n",
      "\n",
      "=====Epoch 3\n",
      "\n",
      "Training...\n",
      "\n",
      "100%|██████████| 860/860 [00:51<00:00, 16.76it/s]\n",
      "\n",
      "Evaluating...\n",
      "\n",
      "100%|██████████| 79/79 [00:02<00:00, 33.81it/s]\n",
      "\n",
      "Testing...\n",
      "\n",
      "100%|██████████| 85/85 [00:02<00:00, 30.55it/s]\n",
      "{'Train': 0.1719289511788723, 'Validation': 0.14316318929195404, 'Test': 0.14212408661842346}\n",
      "\n",
      "=====Epoch 4\n",
      "\n",
      "Training...\n",
      "\n",
      "100%|██████████| 860/860 [00:51<00:00, 16.84it/s]\n",
      "\n",
      "Evaluating...\n",
      "\n",
      "100%|██████████| 79/79 [00:02<00:00, 33.01it/s]\n",
      "\n",
      "Testing...\n",
      "\n",
      "100%|██████████| 85/85 [00:02<00:00, 32.86it/s]\n",
      "{'Train': 0.1274227785076513, 'Validation': 0.1161327138543129, 'Test': 0.11472195386886597}\n",
      "\n",
      "=====Epoch 5\n",
      "\n",
      "Training...\n",
      "\n",
      "100%|██████████| 860/860 [00:51<00:00, 16.69it/s]\n",
      "\n",
      "Evaluating...\n",
      "\n",
      "100%|██████████| 79/79 [00:02<00:00, 32.96it/s]\n",
      "\n",
      "Testing...\n",
      "\n",
      "100%|██████████| 85/85 [00:02<00:00, 31.81it/s]\n",
      "{'Train': 0.11143484417955543, 'Validation': 0.15489009022712708, 'Test': 0.15472373366355896}\n",
      "\n",
      "=====Epoch 6\n",
      "\n",
      "Training...\n",
      "\n",
      "100%|██████████| 860/860 [00:52<00:00, 16.39it/s]\n",
      "\n",
      "Evaluating...\n",
      "\n",
      "100%|██████████| 79/79 [00:02<00:00, 32.01it/s]\n",
      "\n",
      "Testing...\n",
      "\n",
      "100%|██████████| 85/85 [00:02<00:00, 32.62it/s]\n",
      "{'Train': 0.10199223973376806, 'Validation': 0.09771394729614258, 'Test': 0.09740555286407471}\n",
      "\n",
      "=====Epoch 7\n",
      "\n",
      "Training...\n",
      "\n",
      "100%|██████████| 860/860 [00:50<00:00, 16.88it/s]\n",
      "\n",
      "Evaluating...\n",
      "\n",
      "100%|██████████| 79/79 [00:02<00:00, 30.36it/s]\n",
      "\n",
      "Testing...\n",
      "\n",
      "100%|██████████| 85/85 [00:02<00:00, 33.11it/s]\n",
      "{'Train': 0.09688662313098131, 'Validation': 0.09776239842176437, 'Test': 0.09746530652046204}\n",
      "\n",
      "=====Epoch 8\n",
      "\n",
      "Training...\n",
      "\n",
      "100%|██████████| 860/860 [00:50<00:00, 17.03it/s]\n",
      "\n",
      "Evaluating...\n",
      "\n",
      "100%|██████████| 79/79 [00:02<00:00, 31.71it/s]\n",
      "\n",
      "Testing...\n",
      "\n",
      "100%|██████████| 85/85 [00:02<00:00, 31.11it/s]\n",
      "{'Train': 0.09404161727532398, 'Validation': 0.0936068445444107, 'Test': 0.09325292706489563}\n",
      "\n",
      "=====Epoch 9\n",
      "\n",
      "Training...\n",
      "\n",
      "100%|██████████| 860/860 [00:50<00:00, 16.95it/s]\n",
      "\n",
      "Evaluating...\n",
      "\n",
      "100%|██████████| 79/79 [00:02<00:00, 32.57it/s]\n",
      "\n",
      "Testing...\n",
      "\n",
      "100%|██████████| 85/85 [00:02<00:00, 31.69it/s]\n",
      "{'Train': 0.09229359934323056, 'Validation': 0.09197225421667099, 'Test': 0.091829314827919}\n",
      "\n",
      "=====Epoch 10\n",
      "\n",
      "Training...\n",
      "\n",
      "100%|██████████| 860/860 [00:51<00:00, 16.76it/s]\n",
      "\n",
      "Evaluating...\n",
      "\n",
      "100%|██████████| 79/79 [00:02<00:00, 30.91it/s]\n",
      "\n",
      "Testing...\n",
      "\n",
      "100%|██████████| 85/85 [00:02<00:00, 31.85it/s]\n",
      "{'Train': 0.09138055007125057, 'Validation': 0.09436728060245514, 'Test': 0.0940416231751442}\n",
      "Best validation MAE so far: 0.09197225421667099\n",
      "Test MAE when got best validation result: 0.091829314827919\n",
      "\n"
     ]
    }
   ],
   "source": [
    "run3d = run()\n",
    "run3d.run(train_dataset, valid_dataset, test_dataset, model, loss_func, evaluation, epochs=10, batch_size=128, lr=0.001, lr_decay_factor=0.5, lr_decay_step_size=5)"
   ]
  },
  {
   "cell_type": "code",
   "execution_count": null,
   "metadata": {},
   "outputs": [],
   "source": []
  }
 ],
 "metadata": {
  "kernelspec": {
   "name": "python3710jvsc74a57bd0cb8e6fbc8ad27ad491a29c986c4ff269ac041fcbd675ddab98307a36dc0b28a9",
   "display_name": "Python 3.7.10 64-bit ('quantum': conda)"
  },
  "language_info": {
   "codemirror_mode": {
    "name": "ipython",
    "version": 3
   },
   "file_extension": ".py",
   "mimetype": "text/x-python",
   "name": "python",
   "nbconvert_exporter": "python",
   "pygments_lexer": "ipython3",
   "version": "3.7.10"
  },
  "metadata": {
   "interpreter": {
    "hash": "cb8e6fbc8ad27ad491a29c986c4ff269ac041fcbd675ddab98307a36dc0b28a9"
   }
  }
 },
 "nbformat": 4,
 "nbformat_minor": 4
}