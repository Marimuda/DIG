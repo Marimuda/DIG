{
 "cells": [
  {
   "cell_type": "markdown",
   "metadata": {},
   "source": [
    "## Example of 3D Graph\n",
    "\n",
    "Here we provide the example code for SphereNet on QM93D and MD17 datasets. You can easily replace SphereNet with SchNet and DimeNetPP by changing model name and model parameters."
   ]
  },
  {
   "cell_type": "code",
   "execution_count": 1,
   "metadata": {},
   "outputs": [],
   "source": [
    "import torch\n",
    "import sys\n",
    "sys.path.insert(0,'..')\n",
    "sys.path.insert(0,'../..')\n",
    "from dig.threedgraph.dataset import QM93D\n",
    "from dig.threedgraph.dataset import MD17\n",
    "from dig.threedgraph.method import SphereNet #SchNet, DimeNetPP\n",
    "from dig.threedgraph.method import run\n",
    "from dig.threedgraph.evaluation import ThreeDEvaluator"
   ]
  },
  {
   "cell_type": "code",
   "execution_count": 2,
   "metadata": {},
   "outputs": [
    {
     "data": {
      "text/plain": [
       "device(type='cuda', index=0)"
      ]
     },
     "execution_count": 2,
     "metadata": {},
     "output_type": "execute_result"
    }
   ],
   "source": [
    "device = torch.device('cuda:0') if torch.cuda.is_available() else torch.device(\"cpu\")\n",
    "device"
   ]
  },
  {
   "cell_type": "markdown",
   "metadata": {},
   "source": [
    "### Example code for QM93D data\n",
    "***Note***: '3D' means that the data includes positional information for atoms.\n",
    "\n",
    "We trained a separate model for each target except for _gap_, which was predicted by taking _homo-lumo_. You can use default hyperparameters to get comparable results, we also tuned hyperparameters like lr, lr_decay_factor, lr_decay_step_size, cutoff, num_spherical, num_radial, basis_emb_size_dist, basis_emb_size_angle, basis_emb_size_torsion to achieve better performance. The values/search space for hyperparameters are listed in the Appendix of our paper.\n",
    "\n",
    "The default hyperparameters for QM93D are:  \n",
    "    &ensp; energy_and_force=False, cutoff=5.0, num_layers=4, hidden_channels=128, out_channels=1, int_emb_size=64,  \n",
    "    &ensp; basis_emb_size_dist=8, basis_emb_size_angle=8, basis_emb_size_torsion=8, out_emb_channels=256,  \n",
    "    &ensp; num_spherical=7, num_radial=6, envelope_exponent=5,  \n",
    "    &ensp; num_before_skip=1, num_after_skip=2, num_output_layers=3,  \n",
    "    &ensp; epochs=500, batch_size=32, vt_batch_size=32, lr=0.0005, lr_decay_factor=0.5, lr_decay_step_size=50.\n",
    "\n",
    "\n"
   ]
  },
  {
   "cell_type": "markdown",
   "metadata": {},
   "source": [
    "#### Loading dataset"
   ]
  },
  {
   "cell_type": "code",
   "execution_count": 3,
   "metadata": {},
   "outputs": [
    {
     "name": "stdout",
     "output_type": "stream",
     "text": [
      "train, validaion, test: 110000 10000 10831\n"
     ]
    }
   ],
   "source": [
    "dataset = QM93D(root='dataset/')\n",
    "target = 'U0'\n",
    "dataset.data.y = dataset.data[target]\n",
    "\n",
    "split_idx = dataset.get_idx_split(len(dataset.data.y), train_size=110000, valid_size=10000, seed=42)\n",
    "\n",
    "train_dataset, valid_dataset, test_dataset = dataset[split_idx['train']], dataset[split_idx['valid']], dataset[split_idx['test']]\n",
    "print('train, validaion, test:', len(train_dataset), len(valid_dataset), len(test_dataset))"
   ]
  },
  {
   "cell_type": "markdown",
   "metadata": {},
   "source": [
    "#### Loading model, loss and evaluation function\n",
    "\n",
    "The evaluation metric is mean absolute error (MAE)."
   ]
  },
  {
   "cell_type": "code",
   "execution_count": 4,
   "metadata": {},
   "outputs": [],
   "source": [
    "model = SphereNet(energy_and_force=False, cutoff=5.0, num_layers=4, \n",
    "        hidden_channels=128, out_channels=1, int_emb_size=64, \n",
    "        basis_emb_size_dist=8, basis_emb_size_angle=8, basis_emb_size_torsion=8, out_emb_channels=256, \n",
    "        num_spherical=7, num_radial=6, envelope_exponent=5, \n",
    "        num_before_skip=1, num_after_skip=2, num_output_layers=3 \n",
    "        )\n",
    "loss_func = torch.nn.L1Loss()\n",
    "evaluation = ThreeDEvaluator()"
   ]
  },
  {
   "cell_type": "markdown",
   "metadata": {},
   "source": [
    "#### Training"
   ]
  },
  {
   "cell_type": "code",
   "execution_count": 5,
   "metadata": {},
   "outputs": [
    {
     "name": "stdout",
     "output_type": "stream",
     "text": [
      "#Params: 1898566\n",
      "\n",
      "=====Epoch 1\n",
      "\n",
      "Training...\n",
      "100%|██████████| 3438/3438 [06:39<00:00,  8.61it/s]\n",
      "\n",
      "Evaluating...\n",
      "\n",
      "100%|██████████| 313/313 [00:21<00:00, 14.52it/s]\n",
      "\n",
      "Testing...\n",
      "\n",
      "100%|██████████| 339/339 [00:22<00:00, 14.97it/s]\n",
      "{'Train': 0.7765793317604924, 'Validation': 0.829788088798523, 'Test': 0.8256096243858337}\n",
      "\n",
      "=====Epoch 2\n",
      "\n",
      "Training...\n",
      "\n",
      "100%|██████████| 3438/3438 [06:32<00:00,  8.76it/s]\n",
      "\n",
      "Evaluating...\n",
      "\n",
      "100%|██████████| 313/313 [00:19<00:00, 16.32it/s]\n",
      "\n",
      "Testing...\n",
      "\n",
      "100%|██████████| 339/339 [00:20<00:00, 16.37it/s]\n",
      "{'Train': 0.3513736664000606, 'Validation': 0.4852057099342346, 'Test': 0.4807925820350647}\n",
      "\n",
      "=====Epoch 3\n",
      "\n",
      "Training...\n",
      "\n",
      "100%|██████████| 3438/3438 [06:32<00:00,  8.75it/s]\n",
      "\n",
      "Evaluating...\n",
      "\n",
      "100%|██████████| 313/313 [00:19<00:00, 16.47it/s]\n",
      "\n",
      "Testing...\n",
      "\n",
      "100%|██████████| 339/339 [00:20<00:00, 16.25it/s]\n",
      "{'Train': 0.2866970902528785, 'Validation': 0.3925183415412903, 'Test': 0.3926387131214142}\n",
      "\n",
      "=====Epoch 4\n",
      "\n",
      "Training...\n",
      "\n",
      "100%|██████████| 3438/3438 [06:29<00:00,  8.83it/s]\n",
      "\n",
      "Evaluating...\n",
      "\n",
      "100%|██████████| 313/313 [00:18<00:00, 16.57it/s]\n",
      "\n",
      "Testing...\n",
      "\n",
      "100%|██████████| 339/339 [00:20<00:00, 16.67it/s]\n",
      "{'Train': 0.22851779905254582, 'Validation': 0.24750158190727234, 'Test': 0.24735336005687714}\n",
      "\n",
      "=====Epoch 5\n",
      "\n",
      "Training...\n",
      "\n",
      "100%|██████████| 3438/3438 [06:34<00:00,  8.71it/s]\n",
      "\n",
      "Evaluating...\n",
      "\n",
      "100%|██████████| 313/313 [00:18<00:00, 16.51it/s]\n",
      "\n",
      "Testing...\n",
      "\n",
      "100%|██████████| 339/339 [00:20<00:00, 16.72it/s]\n",
      "{'Train': 0.1882370650733606, 'Validation': 0.24951410293579102, 'Test': 0.2485261708498001}\n",
      "\n",
      "=====Epoch 6\n",
      "\n",
      "Training...\n",
      "\n",
      "100%|██████████| 3438/3438 [06:22<00:00,  8.99it/s]\n",
      "\n",
      "Evaluating...\n",
      "\n",
      "100%|██████████| 313/313 [00:18<00:00, 16.56it/s]\n",
      "\n",
      "Testing...\n",
      "\n",
      "100%|██████████| 339/339 [00:20<00:00, 16.53it/s]\n",
      "{'Train': 0.1729215220388387, 'Validation': 0.25098657608032227, 'Test': 0.2510414719581604}\n",
      "\n",
      "=====Epoch 7\n",
      "\n",
      "Training...\n",
      "\n",
      "100%|██████████| 3438/3438 [06:35<00:00,  8.69it/s]\n",
      "\n",
      "Evaluating...\n",
      "\n",
      "100%|██████████| 313/313 [00:19<00:00, 16.23it/s]\n",
      "\n",
      "Testing...\n",
      "\n",
      "100%|██████████| 339/339 [00:20<00:00, 16.47it/s]\n",
      "{'Train': 0.16714775081184313, 'Validation': 0.08707749098539352, 'Test': 0.08680126070976257}\n",
      "\n",
      "=====Epoch 8\n",
      "\n",
      "Training...\n",
      "\n",
      "100%|██████████| 3438/3438 [06:37<00:00,  8.66it/s]\n",
      "\n",
      "Evaluating...\n",
      "\n",
      "100%|██████████| 313/313 [00:20<00:00, 15.54it/s]\n",
      "\n",
      "Testing...\n",
      "\n",
      "100%|██████████| 339/339 [00:20<00:00, 16.14it/s]\n",
      "{'Train': 0.14790155550919, 'Validation': 0.22142618894577026, 'Test': 0.2184610813856125}\n",
      "\n",
      "=====Epoch 9\n",
      "\n",
      "Training...\n",
      "\n",
      "100%|██████████| 3438/3438 [06:43<00:00,  8.52it/s]\n",
      "\n",
      "Evaluating...\n",
      "\n",
      "100%|██████████| 313/313 [00:19<00:00, 15.77it/s]\n",
      "\n",
      "Testing...\n",
      "\n",
      "100%|██████████| 339/339 [00:21<00:00, 16.00it/s]\n",
      "{'Train': 0.14341841166521518, 'Validation': 0.08781412988901138, 'Test': 0.08708161860704422}\n",
      "\n",
      "=====Epoch 10\n",
      "\n",
      "Training...\n",
      "\n",
      "100%|██████████| 3438/3438 [06:45<00:00,  8.49it/s]\n",
      "\n",
      "Evaluating...\n",
      "\n",
      "100%|██████████| 313/313 [00:19<00:00, 16.02it/s]\n",
      "\n",
      "Testing...\n",
      "\n",
      "100%|██████████| 339/339 [00:21<00:00, 16.00it/s]\n",
      "{'Train': 0.13320978917723272, 'Validation': 0.09562557935714722, 'Test': 0.09474394470453262}\n",
      "\n",
      "=====Epoch 11\n",
      "\n",
      "Training...\n",
      "\n",
      "100%|██████████| 3438/3438 [06:43<00:00,  8.52it/s]\n",
      "\n",
      "Evaluating...\n",
      "\n",
      "100%|██████████| 313/313 [00:19<00:00, 15.67it/s]\n",
      "\n",
      "Testing...\n",
      "\n",
      "100%|██████████| 339/339 [00:21<00:00, 15.64it/s]\n",
      "{'Train': 0.12690318433471445, 'Validation': 0.10588052868843079, 'Test': 0.10465845465660095}\n",
      "\n",
      "=====Epoch 12\n",
      "\n",
      "Training...\n",
      "\n",
      "100%|██████████| 3438/3438 [06:23<00:00,  8.96it/s]\n",
      "\n",
      "Evaluating...\n",
      "\n",
      "100%|██████████| 313/313 [00:19<00:00, 16.39it/s]\n",
      "\n",
      "Testing...\n",
      "\n",
      "100%|██████████| 339/339 [00:20<00:00, 16.19it/s]\n",
      "{'Train': 0.11995585791554265, 'Validation': 0.1758851855993271, 'Test': 0.17593063414096832}\n",
      "\n",
      "=====Epoch 13\n",
      "\n",
      "Training...\n",
      "\n",
      "100%|██████████| 3438/3438 [06:37<00:00,  8.65it/s]\n",
      "\n",
      "Evaluating...\n",
      "\n",
      "100%|██████████| 313/313 [00:19<00:00, 16.27it/s]\n",
      "\n",
      "Testing...\n",
      "\n",
      "100%|██████████| 339/339 [00:20<00:00, 16.43it/s]\n",
      "{'Train': 0.11456177215925686, 'Validation': 0.0706050917506218, 'Test': 0.06988751143217087}\n",
      "\n",
      "=====Epoch 14\n",
      "\n",
      "Training...\n",
      "\n",
      "100%|██████████| 3438/3438 [06:38<00:00,  8.63it/s]\n",
      "\n",
      "Evaluating...\n",
      "\n",
      "100%|██████████| 313/313 [00:19<00:00, 16.19it/s]\n",
      "\n",
      "Testing...\n",
      "\n",
      "100%|██████████| 339/339 [00:21<00:00, 15.82it/s]\n",
      "{'Train': 0.10681104086179107, 'Validation': 0.057960350066423416, 'Test': 0.05731089040637016}\n",
      "\n",
      "=====Epoch 15\n",
      "\n",
      "Training...\n",
      "\n",
      "100%|██████████| 3438/3438 [06:38<00:00,  8.63it/s]\n",
      "\n",
      "Evaluating...\n",
      "\n",
      "100%|██████████| 313/313 [00:19<00:00, 16.04it/s]\n",
      "\n",
      "Testing...\n",
      "\n",
      "100%|██████████| 339/339 [00:20<00:00, 16.37it/s]\n",
      "{'Train': 0.11122639218064642, 'Validation': 0.12124070525169373, 'Test': 0.11959604173898697}\n",
      "\n",
      "=====Epoch 16\n",
      "\n",
      "Training...\n",
      "\n",
      "100%|██████████| 3438/3438 [06:37<00:00,  8.66it/s]\n",
      "\n",
      "Evaluating...\n",
      "\n",
      "100%|██████████| 313/313 [00:19<00:00, 16.23it/s]\n",
      "\n",
      "Testing...\n",
      "\n",
      "100%|██████████| 339/339 [00:20<00:00, 16.26it/s]\n",
      "{'Train': 0.05462940768005544, 'Validation': 0.04387890547513962, 'Test': 0.04229748249053955}\n",
      "\n",
      "=====Epoch 17\n",
      "\n",
      "Training...\n",
      "\n",
      "100%|██████████| 3438/3438 [06:29<00:00,  8.82it/s]\n",
      "\n",
      "Evaluating...\n",
      "\n",
      "100%|██████████| 313/313 [00:18<00:00, 16.53it/s]\n",
      "\n",
      "Testing...\n",
      "\n",
      "100%|██████████| 339/339 [00:20<00:00, 16.52it/s]\n",
      "{'Train': 0.057066445401964525, 'Validation': 0.07098211348056793, 'Test': 0.07055927067995071}\n",
      "\n",
      "=====Epoch 18\n",
      "\n",
      "Training...\n",
      "\n",
      "100%|██████████| 3438/3438 [06:21<00:00,  9.00it/s]\n",
      "\n",
      "Evaluating...\n",
      "\n",
      "100%|██████████| 313/313 [00:19<00:00, 16.14it/s]\n",
      "\n",
      "Testing...\n",
      "\n",
      "100%|██████████| 339/339 [00:20<00:00, 16.20it/s]\n",
      "{'Train': 0.05782321078129603, 'Validation': 0.04337486997246742, 'Test': 0.041813842952251434}\n",
      "\n",
      "=====Epoch 19\n",
      "\n",
      "Training...\n",
      "\n",
      "100%|██████████| 3438/3438 [06:36<00:00,  8.66it/s]\n",
      "\n",
      "Evaluating...\n",
      "\n",
      "100%|██████████| 313/313 [00:19<00:00, 15.89it/s]\n",
      "\n",
      "Testing...\n",
      "\n",
      "100%|██████████| 339/339 [00:21<00:00, 15.96it/s]\n",
      "{'Train': 0.05424516140513118, 'Validation': 0.040363702923059464, 'Test': 0.03920820727944374}\n",
      "\n",
      "=====Epoch 20\n",
      "\n",
      "Training...\n",
      "\n",
      "100%|██████████| 3438/3438 [06:36<00:00,  8.67it/s]\n",
      "\n",
      "Evaluating...\n",
      "\n",
      "100%|██████████| 313/313 [00:20<00:00, 15.60it/s]\n",
      "\n",
      "Testing...\n",
      "\n",
      "100%|██████████| 339/339 [00:21<00:00, 15.86it/s]\n",
      "{'Train': 0.0552880891001176, 'Validation': 0.040168143808841705, 'Test': 0.039053723216056824}\n",
      "Best validation MAE so far: 0.040168143808841705\n",
      "Test MAE when got best validation result: 0.039053723216056824\n",
      "\n"
     ]
    }
   ],
   "source": [
    "run3d = run()\n",
    "run3d.run(device, train_dataset, valid_dataset, test_dataset, model, loss_func, evaluation, epochs=20, batch_size=32, vt_batch_size=32, lr=0.0005, lr_decay_factor=0.5, lr_decay_step_size=15)"
   ]
  },
  {
   "cell_type": "markdown",
   "metadata": {},
   "source": [
    "\n",
    "### Example code for MD17 data\n",
    "\n",
    "We trained a separate model for each molecule. You can use default hyperparameters to get comparable results, we also tuned hyperparameters like lr, lr_decay_factor, lr_decay_step_size, batch_size, basis_emb_size_dist, basis_emb_size_angle, basis_emb_size_torsion to achieve better performance. The values/search space for hyperparameters are listed in the Appendix of our paper.\n",
    "\n",
    "The default hyperparameters for MD17 are:  \n",
    "    &ensp; energy_and_force=True, cutoff=5.0, num_layers=4, hidden_channels=128, out_channels=1, int_emb_size=64,  \n",
    "    &ensp; basis_emb_size_dist=8, basis_emb_size_angle=8, basis_emb_size_torsion=8, out_emb_channels=256,  \n",
    "    &ensp; num_spherical=7, num_radial=6, envelope_exponent=5,  \n",
    "    &ensp; num_before_skip=1, num_after_skip=2, num_output_layers=3,  \n",
    "    &ensp; epochs=2000, batch_size=4, vt_batch_size=64, lr=0.001, lr_decay_factor=0.5, lr_decay_step_size=200."
   ]
  },
  {
   "cell_type": "markdown",
   "metadata": {},
   "source": [
    "#### Loading dataset"
   ]
  },
  {
   "cell_type": "code",
   "execution_count": 3,
   "metadata": {},
   "outputs": [
    {
     "name": "stdout",
     "output_type": "stream",
     "text": [
      "train, validaion, test: 1000 10000 200762\n"
     ]
    }
   ],
   "source": [
    "dataset_md17 = MD17(root='dataset/', name='aspirin')\n",
    "\n",
    "split_idx_md17 = dataset_md17.get_idx_split(len(dataset_md17.data.y), train_size=1000, valid_size=10000, seed=42)\n",
    "\n",
    "train_dataset_md17, valid_dataset_md17, test_dataset_md17 = dataset_md17[split_idx_md17['train']], dataset_md17[split_idx_md17['valid']], dataset_md17[split_idx_md17['test']]\n",
    "print('train, validaion, test:', len(train_dataset_md17), len(valid_dataset_md17), len(test_dataset_md17))"
   ]
  },
  {
   "cell_type": "markdown",
   "metadata": {},
   "source": [
    "#### Loading model, loss and evaluation function\n",
    "\n",
    "We predict energy and take the negative of the derivative of the energy with respect to the atomic positions as predicted forces.\n",
    "\n",
    "The evaluation metric is mean absolute error (MAE)."
   ]
  },
  {
   "cell_type": "code",
   "execution_count": 4,
   "metadata": {},
   "outputs": [],
   "source": [
    "model_md17 = SphereNet(energy_and_force=True, cutoff=5.0, num_layers=4, \n",
    "        hidden_channels=128, out_channels=1, int_emb_size=64, \n",
    "        basis_emb_size_dist=8, basis_emb_size_angle=8, basis_emb_size_torsion=8, out_emb_channels=256, \n",
    "        num_spherical=7, num_radial=6, envelope_exponent=5, \n",
    "        num_before_skip=1, num_after_skip=2, num_output_layers=3 \n",
    "        )\n",
    "loss_func_md17 = torch.nn.L1Loss()\n",
    "evaluation_md17 = ThreeDEvaluator()"
   ]
  },
  {
   "cell_type": "markdown",
   "metadata": {},
   "source": [
    "#### Training"
   ]
  },
  {
   "cell_type": "code",
   "execution_count": 5,
   "metadata": {
    "scrolled": true,
    "tags": []
   },
   "outputs": [
    {
     "name": "stdout",
     "output_type": "stream",
     "text": [
      "#Params: 1898566\n",
      "\n",
      "=====Epoch 1\n",
      "\n",
      "Training...\n"
     ]
    },
    {
     "name": "stderr",
     "output_type": "stream",
     "text": [
      "100%|██████████| 250/250 [01:50<00:00,  2.26it/s]"
     ]
    },
    {
     "name": "stdout",
     "output_type": "stream",
     "text": [
      "\n",
      "\n",
      "Evaluating...\n"
     ]
    },
    {
     "name": "stderr",
     "output_type": "stream",
     "text": [
      "\n",
      "100%|██████████| 157/157 [00:46<00:00,  3.37it/s]"
     ]
    },
    {
     "name": "stdout",
     "output_type": "stream",
     "text": [
      "{'Energy MAE': 10445.1953125, 'Force MAE': 196.6641845703125}\n",
      "\n",
      "\n",
      "Testing...\n"
     ]
    },
    {
     "name": "stderr",
     "output_type": "stream",
     "text": [
      "\n",
      "100%|██████████| 3137/3137 [15:37<00:00,  3.35it/s]"
     ]
    },
    {
     "name": "stdout",
     "output_type": "stream",
     "text": [
      "{'Energy MAE': 10444.3759765625, 'Force MAE': 196.88365173339844}\n",
      "\n",
      "{'Train': 154059.5525703125, 'Validation': 30111.61376953125, 'Test': 30132.741149902344}\n",
      "\n",
      "=====Epoch 2\n",
      "\n",
      "Training...\n"
     ]
    },
    {
     "name": "stderr",
     "output_type": "stream",
     "text": [
      "\n",
      "100%|██████████| 250/250 [01:50<00:00,  2.26it/s]"
     ]
    },
    {
     "name": "stdout",
     "output_type": "stream",
     "text": [
      "\n",
      "\n",
      "Evaluating...\n"
     ]
    },
    {
     "name": "stderr",
     "output_type": "stream",
     "text": [
      "\n",
      "100%|██████████| 157/157 [00:46<00:00,  3.40it/s]"
     ]
    },
    {
     "name": "stdout",
     "output_type": "stream",
     "text": [
      "{'Energy MAE': 15324.2392578125, 'Force MAE': 177.7654571533203}\n",
      "\n",
      "\n",
      "Testing...\n"
     ]
    },
    {
     "name": "stderr",
     "output_type": "stream",
     "text": [
      "\n",
      "100%|██████████| 3137/3137 [15:27<00:00,  3.38it/s]"
     ]
    },
    {
     "name": "stdout",
     "output_type": "stream",
     "text": [
      "{'Energy MAE': 15322.70703125, 'Force MAE': 178.03807067871094}\n",
      "\n",
      "{'Train': 37903.49480078125, 'Validation': 33100.78497314453, 'Test': 33126.514099121094}\n",
      "\n",
      "=====Epoch 3\n",
      "\n",
      "Training...\n"
     ]
    },
    {
     "name": "stderr",
     "output_type": "stream",
     "text": [
      "\n",
      "100%|██████████| 250/250 [01:51<00:00,  2.25it/s]"
     ]
    },
    {
     "name": "stdout",
     "output_type": "stream",
     "text": [
      "\n",
      "\n",
      "Evaluating...\n"
     ]
    },
    {
     "name": "stderr",
     "output_type": "stream",
     "text": [
      "\n",
      "100%|██████████| 157/157 [00:45<00:00,  3.43it/s]"
     ]
    },
    {
     "name": "stdout",
     "output_type": "stream",
     "text": [
      "{'Energy MAE': 10696.5302734375, 'Force MAE': 60.2136116027832}\n",
      "\n",
      "\n",
      "Testing...\n"
     ]
    },
    {
     "name": "stderr",
     "output_type": "stream",
     "text": [
      "\n",
      "100%|██████████| 3137/3137 [15:21<00:00,  3.41it/s]"
     ]
    },
    {
     "name": "stdout",
     "output_type": "stream",
     "text": [
      "{'Energy MAE': 10697.052734375, 'Force MAE': 60.53794479370117}\n",
      "\n",
      "{'Train': 27770.732505859374, 'Validation': 16717.89143371582, 'Test': 16750.847213745117}\n",
      "\n",
      "=====Epoch 4\n",
      "\n",
      "Training...\n"
     ]
    },
    {
     "name": "stderr",
     "output_type": "stream",
     "text": [
      "\n",
      "100%|██████████| 250/250 [01:49<00:00,  2.29it/s]"
     ]
    },
    {
     "name": "stdout",
     "output_type": "stream",
     "text": [
      "\n",
      "\n",
      "Evaluating...\n"
     ]
    },
    {
     "name": "stderr",
     "output_type": "stream",
     "text": [
      "\n",
      "100%|██████████| 157/157 [00:46<00:00,  3.39it/s]"
     ]
    },
    {
     "name": "stdout",
     "output_type": "stream",
     "text": [
      "{'Energy MAE': 17826.435546875, 'Force MAE': 81.32068634033203}\n",
      "\n",
      "\n",
      "Testing...\n"
     ]
    },
    {
     "name": "stderr",
     "output_type": "stream",
     "text": [
      "\n",
      "100%|██████████| 3137/3137 [15:18<00:00,  3.41it/s]"
     ]
    },
    {
     "name": "stdout",
     "output_type": "stream",
     "text": [
      "{'Energy MAE': 17827.41015625, 'Force MAE': 81.53056335449219}\n",
      "\n",
      "{'Train': 22683.946689453125, 'Validation': 25958.504180908203, 'Test': 25980.46649169922}\n",
      "\n",
      "=====Epoch 5\n",
      "\n",
      "Training...\n"
     ]
    },
    {
     "name": "stderr",
     "output_type": "stream",
     "text": [
      "\n",
      "100%|██████████| 250/250 [01:50<00:00,  2.26it/s]"
     ]
    },
    {
     "name": "stdout",
     "output_type": "stream",
     "text": [
      "\n",
      "\n",
      "Evaluating...\n"
     ]
    },
    {
     "name": "stderr",
     "output_type": "stream",
     "text": [
      "\n",
      "100%|██████████| 157/157 [00:46<00:00,  3.37it/s]"
     ]
    },
    {
     "name": "stdout",
     "output_type": "stream",
     "text": [
      "{'Energy MAE': 470.1788024902344, 'Force MAE': 105.1806640625}\n",
      "\n",
      "\n",
      "Testing...\n"
     ]
    },
    {
     "name": "stderr",
     "output_type": "stream",
     "text": [
      "\n",
      "100%|██████████| 3137/3137 [15:25<00:00,  3.39it/s]"
     ]
    },
    {
     "name": "stdout",
     "output_type": "stream",
     "text": [
      "{'Energy MAE': 471.0114440917969, 'Force MAE': 105.5485610961914}\n",
      "\n",
      "{'Train': 23443.38701171875, 'Validation': 10988.245208740234, 'Test': 11025.867553710938}\n",
      "Best validation MAE so far: 10988.245208740234\n",
      "Test MAE when got best validation result: 11025.867553710938\n"
     ]
    },
    {
     "name": "stderr",
     "output_type": "stream",
     "text": [
      "\n"
     ]
    }
   ],
   "source": [
    "run3d_md17 = run()\n",
    "run3d_md17.run(device, train_dataset_md17, valid_dataset_md17, test_dataset_md17, model_md17, loss_func_md17, evaluation_md17, epochs=5, batch_size=4, vt_batch_size=64, lr=0.001, lr_decay_factor=0.5, lr_decay_step_size=200, energy_and_force=True)"
   ]
  },
  {
   "cell_type": "code",
   "execution_count": null,
   "metadata": {},
   "outputs": [],
   "source": []
  }
 ],
 "metadata": {
  "interpreter": {
   "hash": "015e0eafcab22e7fddf6e5cdb9e5f6d4189ebbdd188945dfc12bd444354eda05"
  },
  "kernelspec": {
   "display_name": "Python 3",
   "language": "python",
   "name": "python3"
  },
  "language_info": {
   "codemirror_mode": {
    "name": "ipython",
    "version": 3
   },
   "file_extension": ".py",
   "mimetype": "text/x-python",
   "name": "python",
   "nbconvert_exporter": "python",
   "pygments_lexer": "ipython3",
   "version": "3.7.10"
  },
  "metadata": {
   "interpreter": {
    "hash": "015e0eafcab22e7fddf6e5cdb9e5f6d4189ebbdd188945dfc12bd444354eda05"
   }
  }
 },
 "nbformat": 4,
 "nbformat_minor": 4
}