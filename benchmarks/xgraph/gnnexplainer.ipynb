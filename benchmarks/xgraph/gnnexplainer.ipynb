{
 "cells": [
  {
   "cell_type": "markdown",
   "source": [
    "# GNNExplainer on BA-Shapes dataset for 2-layer GIN"
   ],
   "metadata": {
    "collapsed": false,
    "pycharm": {
     "name": "#%% md\n"
    }
   }
  },
  {
   "cell_type": "code",
   "execution_count": 1,
   "metadata": {
    "collapsed": true,
    "pycharm": {
     "is_executing": false
    }
   },
   "outputs": [],
   "source": [
    "from dig.xgraph.dataset import SynGraphDataset\n",
    "import torch\n",
    "from torch.utils.data import random_split\n",
    "from torch_geometric.data import DataLoader\n",
    "from torch_geometric.data import Data, InMemoryDataset, download_url, extract_zip\n",
    "from torch_geometric.data.dataset import files_exist\n",
    "import os.path as osp\n",
    "import os\n",
    "\n",
    "device = torch.device('cuda:0' if torch.cuda.is_available() else 'cpu')"
   ]
  },
  {
   "cell_type": "markdown",
   "source": [
    "### Load dataset"
   ],
   "metadata": {
    "collapsed": false,
    "pycharm": {
     "name": "#%% md\n"
    }
   }
  },
  {
   "cell_type": "code",
   "execution_count": 2,
   "outputs": [],
   "source": [
    "def split_dataset(dataset, dataset_split=[0.8, 0.1, 0.1]):\n",
    "    dataset_len = len(dataset)\n",
    "    dataset_split = [int(dataset_len * dataset_split[0]),\n",
    "                     int(dataset_len * dataset_split[1]),\n",
    "                     0]\n",
    "    dataset_split[2] = dataset_len - dataset_split[0] - dataset_split[1]\n",
    "    train_set, val_set, test_set = \\\n",
    "        random_split(dataset, dataset_split)\n",
    "\n",
    "    return {'train': train_set, 'val': val_set, 'test': test_set}\n",
    "\n",
    "dataset = SynGraphDataset('datasets', 'ba_shapes')\n",
    "dataset.data.x = dataset.data.x.to(torch.float32)\n",
    "dataset.data.y = dataset.data.y[:, 0] \n",
    "dim_node = dataset.num_node_features\n",
    "dim_edge = dataset.num_edge_features\n",
    "num_targets = dataset.num_classes\n",
    "num_classes = 2\n",
    "\n",
    "splitted_dataset = split_dataset(dataset)\n",
    "dataloader = DataLoader(splitted_dataset['test'], batch_size=1, shuffle=False)"
   ],
   "metadata": {
    "collapsed": false,
    "pycharm": {
     "name": "#%%\n",
     "is_executing": false
    }
   }
  },
  {
   "cell_type": "markdown",
   "source": [
    "### Load model and checkpoints"
   ],
   "metadata": {
    "collapsed": false,
    "pycharm": {
     "name": "#%% md\n",
     "is_executing": false
    }
   }
  },
  {
   "cell_type": "code",
   "execution_count": 3,
   "outputs": [
    {
     "data": {
      "text/plain": "<All keys matched successfully>"
     },
     "metadata": {},
     "output_type": "execute_result",
     "execution_count": 3
    }
   ],
   "source": [
    "from dig.xgraph.models import GIN_2l\n",
    "\n",
    "def check_checkpoints(root='./'):\n",
    "    if osp.exists(osp.join(root, 'checkpoints')):\n",
    "        return\n",
    "    url = ('https://github.com/divelab/DIG_storage/raw/main/xgraph/checkpoints.zip')\n",
    "    path = download_url(url, root)\n",
    "    extract_zip(path, root)\n",
    "    os.unlink(path)\n",
    "\n",
    "model = GIN_2l(model_level='graph', dim_node=dim_node, dim_hidden=300, num_classes=num_classes)\n",
    "model.to(device)\n",
    "check_checkpoints()\n",
    "ckpt_path = osp.join('checkpoints', 'ba_shapes', 'GIN_2l', '0', 'GIN_2l_best.ckpt')\n",
    "model.load_state_dict(torch.load(ckpt_path)['state_dict'])"
   ],
   "metadata": {
    "collapsed": false,
    "pycharm": {
     "name": "#%%\n",
     "is_executing": false
    }
   }
  },
  {
   "cell_type": "markdown",
   "source": [
    "### Display example output"
   ],
   "metadata": {
    "collapsed": false,
    "pycharm": {
     "name": "#%% md\n",
     "is_executing": false
    }
   }
  },
  {
   "cell_type": "code",
   "execution_count": 4,
   "outputs": [
    {
     "name": "stdout",
     "text": [
      "tensor([[-2.3228,  2.3888]], device='cuda:0', grad_fn=<AddmmBackward>)\n"
     ],
     "output_type": "stream"
    }
   ],
   "source": [
    "data = list(dataloader)[0].to(device)\n",
    "out = model(data.x, data.edge_index)\n",
    "print(out)"
   ],
   "metadata": {
    "collapsed": false,
    "pycharm": {
     "name": "#%%\n",
     "is_executing": false
    }
   }
  },
  {
   "cell_type": "markdown",
   "source": [
    "### Load the explainer"
   ],
   "metadata": {
    "collapsed": false,
    "pycharm": {
     "name": "#%% md\n",
     "is_executing": false
    }
   }
  },
  {
   "cell_type": "code",
   "execution_count": 5,
   "outputs": [],
   "source": [
    "from dig.xgraph.method import GNNExplainer\n",
    "explainer = GNNExplainer(model, epochs=100, lr=0.01, explain_graph=False)"
   ],
   "metadata": {
    "collapsed": false,
    "pycharm": {
     "name": "#%%\n",
     "is_executing": false
    }
   }
  },
  {
   "cell_type": "markdown",
   "source": [
    "### Setup for evaluation"
   ],
   "metadata": {
    "collapsed": false,
    "pycharm": {
     "name": "#%% md\n"
    }
   }
  },
  {
   "cell_type": "code",
   "execution_count": 6,
   "outputs": [],
   "source": [
    "# --- Set the Sparsity to 0.5 ---\n",
    "sparsity = 0.5\n",
    "\n",
    "# --- Create data collector and explanation processor ---\n",
    "from dig.xgraph.evaluation import XCollector, ExplanationProcessor\n",
    "x_collector = XCollector(sparsity)\n",
    "# x_processor = ExplanationProcessor(model=model, device=device)"
   ],
   "metadata": {
    "collapsed": false,
    "pycharm": {
     "name": "#%%\n",
     "is_executing": false
    }
   }
  },
  {
   "cell_type": "markdown",
   "source": [
    "### Run explainer on the given model and dataset"
   ],
   "metadata": {
    "collapsed": false,
    "pycharm": {
     "name": "#%% md\n"
    }
   }
  },
  {
   "cell_type": "code",
   "execution_count": 7,
   "outputs": [
    {
     "name": "stdout",
     "text": [
      "explain graph line 359\n",
      "explain graph line 1002\n",
      "explain graph line 823\n",
      "explain graph line 1285\n",
      "explain graph line 315\n",
      "explain graph line 1280\n",
      "explain graph line 228\n",
      "explain graph line 471\n",
      "explain graph line 1143\n",
      "explain graph line 845\n",
      "explain graph line 890\n",
      "explain graph line 570\n",
      "explain graph line 37\n",
      "explain graph line 1090\n",
      "explain graph line 911\n",
      "explain graph line 1237\n",
      "explain graph line 1120\n",
      "explain graph line 120\n",
      "explain graph line 1206\n",
      "explain graph line 371\n",
      "explain graph line 489\n",
      "explain graph line 1267\n",
      "explain graph line 1343\n",
      "explain graph line 384\n",
      "explain graph line 1445\n",
      "explain graph line 416\n",
      "explain graph line 443\n",
      "explain graph line 967\n",
      "explain graph line 1196\n",
      "explain graph line 403\n",
      "explain graph line 1103\n",
      "explain graph line 483\n",
      "explain graph line 1055\n",
      "explain graph line 838\n",
      "explain graph line 914\n",
      "explain graph line 34\n",
      "explain graph line 1035\n",
      "explain graph line 977\n",
      "explain graph line 217\n",
      "explain graph line 511\n",
      "explain graph line 948\n",
      "explain graph line 1330\n",
      "explain graph line 211\n",
      "explain graph line 1166\n",
      "explain graph line 548\n",
      "explain graph line 1135\n",
      "explain graph line 1205\n",
      "explain graph line 985\n",
      "explain graph line 485\n",
      "explain graph line 1141\n",
      "explain graph line 427\n",
      "explain graph line 1284\n",
      "explain graph line 263\n",
      "explain graph line 820\n",
      "explain graph line 740\n",
      "explain graph line 892\n",
      "explain graph line 1068\n",
      "explain graph line 1389\n",
      "explain graph line 549\n",
      "explain graph line 853\n",
      "explain graph line 1123\n",
      "explain graph line 622\n",
      "explain graph line 200\n",
      "explain graph line 1390\n",
      "explain graph line 146\n",
      "explain graph line 335\n",
      "explain graph line 1350\n",
      "explain graph line 405\n",
      "explain graph line 943\n",
      "explain graph line 949\n",
      "explain graph line 9\n",
      "explain graph line 1060\n",
      "explain graph line 41\n",
      "explain graph line 546\n",
      "explain graph line 1054\n",
      "explain graph line 1239\n",
      "explain graph line 1177\n",
      "explain graph line 222\n",
      "explain graph line 337\n",
      "explain graph line 609\n",
      "explain graph line 962\n",
      "explain graph line 1399\n",
      "explain graph line 1479\n",
      "explain graph line 1046\n",
      "explain graph line 385\n",
      "explain graph line 568\n",
      "explain graph line 165\n",
      "explain graph line 1037\n",
      "explain graph line 1211\n",
      "explain graph line 633\n",
      "explain graph line 1195\n",
      "explain graph line 516\n",
      "explain graph line 532\n",
      "explain graph line 551\n",
      "explain graph line 626\n",
      "explain graph line 1282\n",
      "explain graph line 659\n",
      "explain graph line 1067\n",
      "explain graph line 638\n",
      "explain graph line 1152\n"
     ],
     "output_type": "stream"
    }
   ],
   "source": [
    "index = -1\n",
    "for i, data in enumerate(dataloader):\n",
    "    for j, node_idx in enumerate(torch.where(data.mask == True)[0].tolist()):\n",
    "        index += 1\n",
    "        print(f'explain graph {i} node {node_idx}')\n",
    "        data.to(device)\n",
    "\n",
    "        if torch.isnan(data.y[0].squeeze()):\n",
    "            continue\n",
    "    \n",
    "        walks, masks, related_preds = \\\n",
    "            explainer(data.x, data.edge_index, sparsity=sparsity, num_classes=num_classes, node_idx=node_idx)\n",
    "    \n",
    "        x_collector.collect_data(masks, related_preds, data.y[0].squeeze().long().item())\n",
    "        \n",
    "        # if you only have the edge masks without related_pred, please feed sparsity controlled mask to\n",
    "        # obtain the result: x_processor(data, masks, x_collector)\n",
    "        if index >= 99:\n",
    "            break\n",
    "\n",
    "    if index >= 99:\n",
    "        break"
   ],
   "metadata": {
    "collapsed": false,
    "pycharm": {
     "name": "#%%\n",
     "is_executing": false
    }
   }
  },
  {
   "cell_type": "markdown",
   "source": [
    "### Output metrics evaluation results"
   ],
   "metadata": {
    "collapsed": false,
    "pycharm": {
     "name": "#%% md\n"
    }
   }
  },
  {
   "cell_type": "code",
   "execution_count": 8,
   "outputs": [
    {
     "name": "stdout",
     "text": [
      "Fidelity: 0.5038\n",
      "Fidelity_inv: 0.0988\n",
      "Sparsity: 0.5000\n"
     ],
     "output_type": "stream"
    }
   ],
   "source": [
    "print(f'Fidelity: {x_collector.fidelity:.4f}\\n'\n",
    "      f'Fidelity_inv: {x_collector.fidelity_inv:.4f}\\n'\n",
    "      f'Sparsity: {x_collector.sparsity:.4f}')"
   ],
   "metadata": {
    "collapsed": false,
    "pycharm": {
     "name": "#%%\n",
     "is_executing": false
    }
   }
  },
  {
   "cell_type": "markdown",
   "source": [
    "For more details, please refer to [https://github.com/divelab/DIG/tree/dig/benchmarks/xgraph/supp/](https://github.com/divelab/DIG/tree/dig/benchmarks/xgraph/supp/)"
   ],
   "metadata": {
    "collapsed": false,
    "pycharm": {
     "name": "#%% md\n"
    }
   }
  }
 ],
 "metadata": {
  "kernelspec": {
   "display_name": "Python 3",
   "language": "python",
   "name": "python3"
  },
  "language_info": {
   "codemirror_mode": {
    "name": "ipython",
    "version": 2
   },
   "file_extension": ".py",
   "mimetype": "text/x-python",
   "name": "python",
   "nbconvert_exporter": "python",
   "pygments_lexer": "ipython2",
   "version": "2.7.6"
  },
  "pycharm": {
   "stem_cell": {
    "cell_type": "raw",
    "source": [],
    "metadata": {
     "collapsed": false
    }
   }
  }
 },
 "nbformat": 4,
 "nbformat_minor": 0
}