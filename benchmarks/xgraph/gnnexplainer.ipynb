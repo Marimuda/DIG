{
 "cells": [
  {
   "cell_type": "markdown",
   "source": [
    "# GNNExplainer on BA-Shapes dataset for 2-layer GIN"
   ],
   "metadata": {
    "collapsed": false,
    "pycharm": {
     "name": "#%% md\n"
    }
   }
  },
  {
   "cell_type": "code",
   "execution_count": 1,
   "metadata": {
    "collapsed": true,
    "pycharm": {
     "is_executing": false
    }
   },
   "outputs": [],
   "source": [
    "from dig.xgraph.dataset import SynGraphDataset\n",
    "from dig.xgraph.models import *\n",
    "import torch\n",
    "from torch_geometric.data import DataLoader\n",
    "from torch_geometric.data import Data, InMemoryDataset, download_url, extract_zip\n",
    "import os.path as osp\n",
    "import os\n",
    "\n",
    "device = torch.device('cuda:0' if torch.cuda.is_available() else 'cpu')"
   ]
  },
  {
   "cell_type": "markdown",
   "source": [
    "### Load dataset"
   ],
   "metadata": {
    "collapsed": false,
    "pycharm": {
     "name": "#%% md\n"
    }
   }
  },
  {
   "cell_type": "code",
   "execution_count": 2,
   "outputs": [],
   "source": [
    "def index_to_mask(index, size):\n",
    "    mask = torch.zeros(size, dtype=torch.bool, device=index.device)\n",
    "    mask[index] = 1\n",
    "    return mask\n",
    "\n",
    "def split_dataset(dataset):\n",
    "    indices = []\n",
    "    num_classes = 4\n",
    "    train_percent = 0.7\n",
    "    for i in range(num_classes):\n",
    "        index = (dataset.data.y == i).nonzero().view(-1)\n",
    "        index = index[torch.randperm(index.size(0))]\n",
    "        indices.append(index)\n",
    "\n",
    "    train_index = torch.cat([i[:int(len(i) * train_percent)] for i in indices], dim=0)\n",
    "\n",
    "    rest_index = torch.cat([i[int(len(i) * train_percent):] for i in indices], dim=0)\n",
    "    rest_index = rest_index[torch.randperm(rest_index.size(0))]\n",
    "\n",
    "    dataset.data.train_mask = index_to_mask(train_index, size=dataset.data.num_nodes)\n",
    "    dataset.data.val_mask = index_to_mask(rest_index[:len(rest_index) // 2], size=dataset.data.num_nodes)\n",
    "    dataset.data.test_mask = index_to_mask(rest_index[len(rest_index) // 2:], size=dataset.data.num_nodes)\n",
    "\n",
    "    dataset.data, dataset.slices = dataset.collate([dataset.data])\n",
    "\n",
    "    return dataset\n",
    "\n",
    "dataset = SynGraphDataset('./datasets', 'BA_shapes')\n",
    "dataset.data.x = dataset.data.x.to(torch.float32)\n",
    "dataset.data.x = dataset.data.x[:, :1]\n",
    "# dataset.data.y = dataset.data.y[:, 2]\n",
    "dim_node = dataset.num_node_features\n",
    "dim_edge = dataset.num_edge_features\n",
    "# num_targets = dataset.num_classes\n",
    "num_classes = dataset.num_classes\n",
    "\n",
    "splitted_dataset = split_dataset(dataset)\n",
    "splitted_dataset.data.mask = splitted_dataset.data.test_mask\n",
    "splitted_dataset.slices['mask'] = splitted_dataset.slices['test_mask']\n",
    "dataloader = DataLoader(splitted_dataset, batch_size=1, shuffle=False)"
   ],
   "metadata": {
    "collapsed": false,
    "pycharm": {
     "name": "#%%\n",
     "is_executing": false
    }
   }
  },
  {
   "cell_type": "markdown",
   "source": [
    "### Load model and checkpoints"
   ],
   "metadata": {
    "collapsed": false,
    "pycharm": {
     "name": "#%% md\n",
     "is_executing": false
    }
   }
  },
  {
   "cell_type": "code",
   "execution_count": 3,
   "outputs": [
    {
     "data": {
      "text/plain": "<All keys matched successfully>"
     },
     "metadata": {},
     "output_type": "execute_result",
     "execution_count": 3
    }
   ],
   "source": [
    "def check_checkpoints(root='./'):\n",
    "    if osp.exists(osp.join(root, 'checkpoints')):\n",
    "        return\n",
    "    url = ('https://github.com/divelab/DIG_storage/raw/main/xgraph/checkpoints.zip')\n",
    "    path = download_url(url, root)\n",
    "    extract_zip(path, root)\n",
    "    os.unlink(path)\n",
    "\n",
    "model = GIN_2l(model_level='node', dim_node=dim_node, dim_hidden=300, num_classes=num_classes)\n",
    "model.to(device)\n",
    "check_checkpoints()\n",
    "ckpt_path = osp.join('checkpoints', 'ba_shapes', 'GIN_2l', '0', 'GIN_2l_best.ckpt')\n",
    "model.load_state_dict(torch.load(ckpt_path)['state_dict'])"
   ],
   "metadata": {
    "collapsed": false,
    "pycharm": {
     "name": "#%%\n",
     "is_executing": false
    }
   }
  },
  {
   "cell_type": "markdown",
   "source": [
    "### Display example output"
   ],
   "metadata": {
    "collapsed": false,
    "pycharm": {
     "name": "#%% md\n",
     "is_executing": false
    }
   }
  },
  {
   "cell_type": "code",
   "execution_count": 4,
   "outputs": [
    {
     "name": "stdout",
     "text": [
      "tensor([[  59.2552,    3.2258,   18.8490, -145.8462],\n",
      "        [ 108.6987,  -13.9900,   67.3546, -267.5370],\n",
      "        [  37.3232,   -1.5697,   13.8692,  -96.5077],\n",
      "        ...,\n",
      "        [  -6.7269,   -1.9655,   -4.3532,   10.0127],\n",
      "        [  -5.7191,   -0.6677,   -5.7571,    8.5893],\n",
      "        [  -5.4793,    3.3847,   -1.2214,    3.0312]], device='cuda:0',\n",
      "       grad_fn=<AddmmBackward>)\n"
     ],
     "output_type": "stream"
    }
   ],
   "source": [
    "data = list(dataloader)[0].to(device)\n",
    "out = model(data.x, data.edge_index)\n",
    "print(out)"
   ],
   "metadata": {
    "collapsed": false,
    "pycharm": {
     "name": "#%%\n",
     "is_executing": false
    }
   }
  },
  {
   "cell_type": "markdown",
   "source": [
    "### Load the explainer"
   ],
   "metadata": {
    "collapsed": false,
    "pycharm": {
     "name": "#%% md\n",
     "is_executing": false
    }
   }
  },
  {
   "cell_type": "code",
   "execution_count": 5,
   "outputs": [],
   "source": [
    "from dig.xgraph.method import GNNExplainer\n",
    "explainer = GNNExplainer(model, epochs=100, lr=0.01, explain_graph=False)"
   ],
   "metadata": {
    "collapsed": false,
    "pycharm": {
     "name": "#%%\n",
     "is_executing": false
    }
   }
  },
  {
   "cell_type": "markdown",
   "source": [
    "### Setup for evaluation"
   ],
   "metadata": {
    "collapsed": false,
    "pycharm": {
     "name": "#%% md\n"
    }
   }
  },
  {
   "cell_type": "code",
   "execution_count": 6,
   "outputs": [],
   "source": [
    "# --- Set the Sparsity to 0.5 ---\n",
    "sparsity = 0.5\n",
    "\n",
    "# --- Create data collector and explanation processor ---\n",
    "from dig.xgraph.evaluation import XCollector, ExplanationProcessor\n",
    "x_collector = XCollector(sparsity)\n",
    "# x_processor = ExplanationProcessor(model=model, device=device)"
   ],
   "metadata": {
    "collapsed": false,
    "pycharm": {
     "name": "#%%\n",
     "is_executing": false
    }
   }
  },
  {
   "cell_type": "markdown",
   "source": [
    "### Run explainer on the given model and dataset"
   ],
   "metadata": {
    "collapsed": false,
    "pycharm": {
     "name": "#%% md\n"
    }
   }
  },
  {
   "cell_type": "code",
   "execution_count": 7,
   "outputs": [
    {
     "name": "stdout",
     "text": [
      "explain graph 0 node 17\n",
      "explain graph 0 node 20\n",
      "explain graph 0 node 30\n",
      "explain graph 0 node 31\n",
      "explain graph 0 node 48\n",
      "explain graph 0 node 57\n",
      "explain graph 0 node 71\n",
      "explain graph 0 node 74\n",
      "explain graph 0 node 75\n",
      "explain graph 0 node 95\n",
      "explain graph 0 node 96\n",
      "explain graph 0 node 99\n",
      "explain graph 0 node 105\n",
      "explain graph 0 node 109\n",
      "explain graph 0 node 115\n",
      "explain graph 0 node 120\n",
      "explain graph 0 node 126\n",
      "explain graph 0 node 136\n",
      "explain graph 0 node 137\n",
      "explain graph 0 node 138\n",
      "explain graph 0 node 148\n",
      "explain graph 0 node 159\n",
      "explain graph 0 node 171\n",
      "explain graph 0 node 172\n",
      "explain graph 0 node 180\n",
      "explain graph 0 node 187\n",
      "explain graph 0 node 189\n",
      "explain graph 0 node 191\n",
      "explain graph 0 node 192\n",
      "explain graph 0 node 195\n",
      "explain graph 0 node 203\n",
      "explain graph 0 node 209\n",
      "explain graph 0 node 216\n",
      "explain graph 0 node 219\n",
      "explain graph 0 node 220\n",
      "explain graph 0 node 222\n",
      "explain graph 0 node 224\n",
      "explain graph 0 node 230\n",
      "explain graph 0 node 249\n",
      "explain graph 0 node 256\n",
      "explain graph 0 node 260\n",
      "explain graph 0 node 276\n",
      "explain graph 0 node 279\n",
      "explain graph 0 node 280\n",
      "explain graph 0 node 281\n",
      "explain graph 0 node 287\n",
      "explain graph 0 node 289\n",
      "explain graph 0 node 290\n",
      "explain graph 0 node 293\n",
      "explain graph 0 node 294\n",
      "explain graph 0 node 302\n",
      "explain graph 0 node 309\n",
      "explain graph 0 node 324\n",
      "explain graph 0 node 325\n",
      "explain graph 0 node 327\n",
      "explain graph 0 node 346\n",
      "explain graph 0 node 361\n",
      "explain graph 0 node 377\n",
      "explain graph 0 node 384\n",
      "explain graph 0 node 385\n",
      "explain graph 0 node 410\n",
      "explain graph 0 node 425\n",
      "explain graph 0 node 431\n",
      "explain graph 0 node 442\n",
      "explain graph 0 node 445\n",
      "explain graph 0 node 456\n",
      "explain graph 0 node 458\n",
      "explain graph 0 node 462\n",
      "explain graph 0 node 464\n",
      "explain graph 0 node 472\n",
      "explain graph 0 node 479\n",
      "explain graph 0 node 487\n",
      "explain graph 0 node 494\n",
      "explain graph 0 node 501\n",
      "explain graph 0 node 506\n",
      "explain graph 0 node 514\n",
      "explain graph 0 node 526\n",
      "explain graph 0 node 529\n",
      "explain graph 0 node 530\n",
      "explain graph 0 node 540\n",
      "explain graph 0 node 541\n",
      "explain graph 0 node 545\n",
      "explain graph 0 node 551\n",
      "explain graph 0 node 554\n",
      "explain graph 0 node 563\n",
      "explain graph 0 node 570\n",
      "explain graph 0 node 574\n",
      "explain graph 0 node 579\n",
      "explain graph 0 node 588\n",
      "explain graph 0 node 592\n",
      "explain graph 0 node 603\n",
      "explain graph 0 node 611\n",
      "explain graph 0 node 617\n",
      "explain graph 0 node 621\n",
      "explain graph 0 node 627\n",
      "explain graph 0 node 628\n",
      "explain graph 0 node 636\n",
      "explain graph 0 node 637\n",
      "explain graph 0 node 645\n",
      "explain graph 0 node 646\n"
     ],
     "output_type": "stream"
    }
   ],
   "source": [
    "index = -1\n",
    "for i, data in enumerate(dataloader):\n",
    "    for j, node_idx in enumerate(torch.where(data.mask == True)[0].tolist()):\n",
    "        index += 1\n",
    "        print(f'explain graph {i} node {node_idx}')\n",
    "        data.to(device)\n",
    "\n",
    "        if torch.isnan(data.y[0].squeeze()):\n",
    "            continue\n",
    "    \n",
    "        walks, masks, related_preds = \\\n",
    "            explainer(data.x, data.edge_index, sparsity=sparsity, num_classes=num_classes, node_idx=node_idx)\n",
    "    \n",
    "        x_collector.collect_data(masks, related_preds, data.y[0].squeeze().long().item())\n",
    "        \n",
    "        # if you only have the edge masks without related_pred, please feed sparsity controlled mask to\n",
    "        # obtain the result: x_processor(data, masks, x_collector)\n",
    "        if index >= 99:\n",
    "            break\n",
    "\n",
    "    if index >= 99:\n",
    "        break"
   ],
   "metadata": {
    "collapsed": false,
    "pycharm": {
     "name": "#%%\n",
     "is_executing": false
    }
   }
  },
  {
   "cell_type": "markdown",
   "source": [
    "### Output metrics evaluation results"
   ],
   "metadata": {
    "collapsed": false,
    "pycharm": {
     "name": "#%% md\n"
    }
   }
  },
  {
   "cell_type": "code",
   "execution_count": 8,
   "outputs": [
    {
     "name": "stdout",
     "text": [
      "Fidelity: 0.4989\n",
      "Fidelity_inv: -0.0150\n",
      "Sparsity: 0.5000\n"
     ],
     "output_type": "stream"
    }
   ],
   "source": [
    "print(f'Fidelity: {x_collector.fidelity:.4f}\\n'\n",
    "      f'Fidelity_inv: {x_collector.fidelity_inv:.4f}\\n'\n",
    "      f'Sparsity: {x_collector.sparsity:.4f}')"
   ],
   "metadata": {
    "collapsed": false,
    "pycharm": {
     "name": "#%%\n",
     "is_executing": false
    }
   }
  },
  {
   "cell_type": "markdown",
   "source": [
    "For more details, please refer to [https://github.com/divelab/DIG/tree/dig/benchmarks/xgraph/supp/](https://github.com/divelab/DIG/tree/dig/benchmarks/xgraph/supp/)"
   ],
   "metadata": {
    "collapsed": false,
    "pycharm": {
     "name": "#%% md\n"
    }
   }
  }
 ],
 "metadata": {
  "kernelspec": {
   "display_name": "Python 3",
   "language": "python",
   "name": "python3"
  },
  "language_info": {
   "codemirror_mode": {
    "name": "ipython",
    "version": 2
   },
   "file_extension": ".py",
   "mimetype": "text/x-python",
   "name": "python",
   "nbconvert_exporter": "python",
   "pygments_lexer": "ipython2",
   "version": "2.7.6"
  },
  "pycharm": {
   "stem_cell": {
    "cell_type": "raw",
    "source": [],
    "metadata": {
     "collapsed": false
    }
   }
  }
 },
 "nbformat": 4,
 "nbformat_minor": 0
}