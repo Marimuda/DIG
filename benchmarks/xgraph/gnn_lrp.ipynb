{
 "cells": [
  {
   "cell_type": "markdown",
   "source": [
    "# GNN-LRP on BA-LRP dataset"
   ],
   "metadata": {
    "collapsed": false,
    "pycharm": {
     "name": "#%% md\n"
    }
   }
  },
  {
   "cell_type": "code",
   "execution_count": 1,
   "metadata": {
    "collapsed": true,
    "pycharm": {
     "is_executing": false
    }
   },
   "outputs": [],
   "source": [
    "from dig.xgraph.dataset import BA_LRP\n",
    "from dig.xgraph.models import GCN_3l\n",
    "import torch\n",
    "from torch.utils.data import random_split\n",
    "from torch_geometric.data import DataLoader\n",
    "from torch_geometric.data import Data, InMemoryDataset, download_url, extract_zip\n",
    "from torch_geometric.data.dataset import files_exist\n",
    "import os.path as osp\n",
    "import os\n",
    "\n",
    "device = torch.device('cuda:0' if torch.cuda.is_available() else 'cpu')"
   ]
  },
  {
   "cell_type": "markdown",
   "source": [
    "### Load dataset"
   ],
   "metadata": {
    "collapsed": false,
    "pycharm": {
     "name": "#%% md\n"
    }
   }
  },
  {
   "cell_type": "code",
   "execution_count": 2,
   "outputs": [],
   "source": [
    "def split_dataset(dataset, dataset_split=[0.8, 0.1, 0.1]):\n",
    "    dataset_len = len(dataset)\n",
    "    dataset_split = [int(dataset_len * dataset_split[0]),\n",
    "                     int(dataset_len * dataset_split[1]),\n",
    "                     0]\n",
    "    dataset_split[2] = dataset_len - dataset_split[0] - dataset_split[1]\n",
    "    train_set, val_set, test_set = \\\n",
    "        random_split(dataset, dataset_split)\n",
    "\n",
    "    return {'train': train_set, 'val': val_set, 'test': test_set}\n",
    "\n",
    "dataset = BA_LRP('datasets')\n",
    "dataset.data.x = dataset.data.x.to(torch.float32)\n",
    "dataset.data.y = dataset.data.y[:, 0]\n",
    "dim_node = dataset.num_node_features\n",
    "dim_edge = dataset.num_edge_features\n",
    "num_targets = dataset.num_classes\n",
    "num_classes = 2\n",
    "\n",
    "splitted_dataset = split_dataset(dataset)\n",
    "dataloader = DataLoader(splitted_dataset['test'], batch_size=1, shuffle=False)"
   ],
   "metadata": {
    "collapsed": false,
    "pycharm": {
     "name": "#%%\n",
     "is_executing": false
    }
   }
  },
  {
   "cell_type": "markdown",
   "source": [
    "### Load model and checkpoints"
   ],
   "metadata": {
    "collapsed": false,
    "pycharm": {
     "name": "#%% md\n",
     "is_executing": false
    }
   }
  },
  {
   "cell_type": "code",
   "execution_count": 3,
   "outputs": [
    {
     "data": {
      "text/plain": "<All keys matched successfully>"
     },
     "metadata": {},
     "output_type": "execute_result",
     "execution_count": 3
    }
   ],
   "source": [
    "def check_checkpoints(root='./'):\n",
    "    if osp.exists(osp.join(root, 'checkpoints')):\n",
    "        return\n",
    "    url = ('https://github.com/divelab/DIG_storage/raw/main/xgraph/checkpoints.zip')\n",
    "    path = download_url(url, root)\n",
    "    extract_zip(path, root)\n",
    "    os.unlink(path)\n",
    "\n",
    "model = GCN_3l(model_level='graph', dim_node=dim_node, dim_hidden=300, num_classes=num_classes)\n",
    "model.to(device)\n",
    "check_checkpoints()\n",
    "ckpt_path = osp.join('checkpoints', 'ba_lrp', 'GCN_3l', '0', 'GCN_3l_best.ckpt')\n",
    "model.load_state_dict(torch.load(ckpt_path)['state_dict'])"
   ],
   "metadata": {
    "collapsed": false,
    "pycharm": {
     "name": "#%%\n",
     "is_executing": false
    }
   }
  },
  {
   "cell_type": "markdown",
   "source": [
    "### Display example output"
   ],
   "metadata": {
    "collapsed": false,
    "pycharm": {
     "name": "#%% md\n",
     "is_executing": false
    }
   }
  },
  {
   "cell_type": "code",
   "execution_count": 4,
   "outputs": [
    {
     "name": "stdout",
     "text": [
      "tensor([[ 3.4417, -3.4062]], device='cuda:0', grad_fn=<AddmmBackward>)\n"
     ],
     "output_type": "stream"
    }
   ],
   "source": [
    "data = list(dataloader)[0].to(device)\n",
    "out = model(data.x, data.edge_index)\n",
    "print(out)"
   ],
   "metadata": {
    "collapsed": false,
    "pycharm": {
     "name": "#%%\n",
     "is_executing": false
    }
   }
  },
  {
   "cell_type": "markdown",
   "source": [
    "### Load the explainer"
   ],
   "metadata": {
    "collapsed": false,
    "pycharm": {
     "name": "#%% md\n",
     "is_executing": false
    }
   }
  },
  {
   "cell_type": "code",
   "execution_count": 5,
   "outputs": [],
   "source": [
    "from dig.xgraph.method import GNN_LRP\n",
    "explainer = GNN_LRP(model, explain_graph=True)"
   ],
   "metadata": {
    "collapsed": false,
    "pycharm": {
     "name": "#%%\n",
     "is_executing": false
    }
   }
  },
  {
   "cell_type": "markdown",
   "source": [
    "### Setup for evaluation"
   ],
   "metadata": {
    "collapsed": false,
    "pycharm": {
     "name": "#%% md\n"
    }
   }
  },
  {
   "cell_type": "code",
   "execution_count": 6,
   "outputs": [],
   "source": [
    "# --- Set the Sparsity to 0.5 ---\n",
    "sparsity = 0.5\n",
    "\n",
    "# --- Create data collector and explanation processor ---\n",
    "from dig.xgraph.evaluation import XCollector, ExplanationProcessor\n",
    "x_collector = XCollector(sparsity)\n",
    "# x_processor = ExplanationProcessor(model=model, device=device)"
   ],
   "metadata": {
    "collapsed": false,
    "pycharm": {
     "name": "#%%\n",
     "is_executing": false
    }
   }
  },
  {
   "cell_type": "markdown",
   "source": [
    "### Run explainer on the given model and dataset"
   ],
   "metadata": {
    "collapsed": false,
    "pycharm": {
     "name": "#%% md\n"
    }
   }
  },
  {
   "cell_type": "code",
   "execution_count": 7,
   "outputs": [
    {
     "name": "stdout",
     "text": [
      "explain graph line 10982\n",
      "explain graph line 10544\n",
      "explain graph line 8199\n",
      "explain graph line 5612\n",
      "explain graph line 16665\n",
      "explain graph line 2517\n",
      "explain graph line 18422\n",
      "explain graph line 8885\n",
      "explain graph line 16072\n",
      "explain graph line 9213\n",
      "explain graph line 12727\n",
      "explain graph line 13930\n",
      "explain graph line 981\n",
      "explain graph line 15235\n",
      "explain graph line 9196\n",
      "explain graph line 11909\n",
      "explain graph line 4167\n",
      "explain graph line 11524\n",
      "explain graph line 3282\n",
      "explain graph line 4993\n",
      "explain graph line 9617\n",
      "explain graph line 7064\n",
      "explain graph line 10585\n",
      "explain graph line 18522\n",
      "explain graph line 7461\n",
      "explain graph line 14086\n",
      "explain graph line 3027\n",
      "explain graph line 16680\n",
      "explain graph line 14267\n",
      "explain graph line 4300\n",
      "explain graph line 372\n",
      "explain graph line 9251\n",
      "explain graph line 8630\n",
      "explain graph line 5466\n",
      "explain graph line 6546\n",
      "explain graph line 1637\n",
      "explain graph line 9295\n",
      "explain graph line 10958\n",
      "explain graph line 3233\n",
      "explain graph line 10715\n",
      "explain graph line 1884\n",
      "explain graph line 19270\n",
      "explain graph line 2890\n",
      "explain graph line 14118\n",
      "explain graph line 2105\n",
      "explain graph line 13255\n",
      "explain graph line 11438\n",
      "explain graph line 7507\n",
      "explain graph line 14912\n",
      "explain graph line 13243\n",
      "explain graph line 2342\n",
      "explain graph line 11005\n",
      "explain graph line 13525\n",
      "explain graph line 8775\n",
      "explain graph line 19335\n",
      "explain graph line 6844\n",
      "explain graph line 3587\n",
      "explain graph line 6764\n",
      "explain graph line 9315\n",
      "explain graph line 6443\n",
      "explain graph line 14013\n",
      "explain graph line 6995\n",
      "explain graph line 19392\n",
      "explain graph line 3616\n",
      "explain graph line 7874\n",
      "explain graph line 198\n",
      "explain graph line 18258\n",
      "explain graph line 5170\n",
      "explain graph line 17317\n",
      "explain graph line 5834\n",
      "explain graph line 19379\n",
      "explain graph line 10029\n",
      "explain graph line 6889\n",
      "explain graph line 7877\n",
      "explain graph line 19169\n",
      "explain graph line 10510\n",
      "explain graph line 9055\n",
      "explain graph line 5097\n",
      "explain graph line 1068\n",
      "explain graph line 5968\n",
      "explain graph line 12116\n",
      "explain graph line 10506\n",
      "explain graph line 3964\n",
      "explain graph line 7441\n",
      "explain graph line 9984\n",
      "explain graph line 14619\n",
      "explain graph line 963\n",
      "explain graph line 3145\n",
      "explain graph line 5864\n",
      "explain graph line 18826\n",
      "explain graph line 5286\n",
      "explain graph line 4206\n",
      "explain graph line 2522\n",
      "explain graph line 4779\n",
      "explain graph line 15906\n",
      "explain graph line 16103\n",
      "explain graph line 2451\n",
      "explain graph line 6232\n",
      "explain graph line 440\n",
      "explain graph line 17391\n"
     ],
     "output_type": "stream"
    }
   ],
   "source": [
    "index = -1\n",
    "for index, data in enumerate(dataloader):\n",
    "    print(f'explain graph line {dataloader.dataset.indices[index] + 2}')\n",
    "    data.to(device)\n",
    "\n",
    "    if torch.isnan(data.y[0].squeeze()):\n",
    "        continue\n",
    "\n",
    "    walks, masks, related_preds = \\\n",
    "        explainer(data.x, data.edge_index, sparsity=sparsity, num_classes=num_classes)\n",
    "\n",
    "    x_collector.collect_data(masks, related_preds, data.y[0].squeeze().long().item())\n",
    "\n",
    "    # if you only have the edge masks without related_pred, please feed sparsity controlled mask to\n",
    "    # obtain the result: x_processor(data, masks, x_collector)\n",
    "\n",
    "    if index >= 99:\n",
    "        break"
   ],
   "metadata": {
    "collapsed": false,
    "pycharm": {
     "name": "#%%\n",
     "is_executing": false
    }
   }
  },
  {
   "cell_type": "markdown",
   "source": [
    "### Output metrics evaluation results"
   ],
   "metadata": {
    "collapsed": false,
    "pycharm": {
     "name": "#%% md\n"
    }
   }
  },
  {
   "cell_type": "code",
   "execution_count": 8,
   "outputs": [
    {
     "name": "stdout",
     "text": [
      "Fidelity: 0.4786\n",
      "Fidelity_inv: 0.1102\n",
      "Sparsity: 0.5000\n"
     ],
     "output_type": "stream"
    }
   ],
   "source": [
    "print(f'Fidelity: {x_collector.fidelity:.4f}\\n'\n",
    "      f'Fidelity_inv: {x_collector.fidelity_inv:.4f}\\n'\n",
    "      f'Sparsity: {x_collector.sparsity:.4f}')"
   ],
   "metadata": {
    "collapsed": false,
    "pycharm": {
     "name": "#%%\n",
     "is_executing": false
    }
   }
  },
  {
   "cell_type": "markdown",
   "source": [
    "For more details, please refer to [https://github.com/divelab/DIG/tree/dig/benchmarks/xgraph/supp/](https://github.com/divelab/DIG/tree/dig/benchmarks/xgraph/supp/)"
   ],
   "metadata": {
    "collapsed": false,
    "pycharm": {
     "name": "#%% md\n"
    }
   }
  }
 ],
 "metadata": {
  "kernelspec": {
   "display_name": "Python 3",
   "language": "python",
   "name": "python3"
  },
  "language_info": {
   "codemirror_mode": {
    "name": "ipython",
    "version": 2
   },
   "file_extension": ".py",
   "mimetype": "text/x-python",
   "name": "python",
   "nbconvert_exporter": "python",
   "pygments_lexer": "ipython2",
   "version": "2.7.6"
  },
  "pycharm": {
   "stem_cell": {
    "cell_type": "raw",
    "source": [],
    "metadata": {
     "collapsed": false
    }
   }
  }
 },
 "nbformat": 4,
 "nbformat_minor": 0
}