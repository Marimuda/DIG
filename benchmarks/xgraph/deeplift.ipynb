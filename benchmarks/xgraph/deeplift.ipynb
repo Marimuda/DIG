{
 "cells": [
  {
   "cell_type": "markdown",
   "source": [
    "# DeepLIFT on Tox21 dataset"
   ],
   "metadata": {
    "collapsed": false,
    "pycharm": {
     "name": "#%% md\n"
    }
   }
  },
  {
   "cell_type": "code",
   "execution_count": 1,
   "metadata": {
    "collapsed": true,
    "pycharm": {
     "is_executing": false
    }
   },
   "outputs": [],
   "source": [
    "from dig.xgraph.dataset import MoleculeNet\n",
    "from dig.xgraph.models import GCN_3l\n",
    "import torch\n",
    "from torch.utils.data import random_split\n",
    "from torch_geometric.data import DataLoader\n",
    "from torch_geometric.data import Data, InMemoryDataset, download_url, extract_zip\n",
    "from torch_geometric.data.dataset import files_exist\n",
    "import os.path as osp\n",
    "import os\n",
    "\n",
    "device = torch.device('cuda:0' if torch.cuda.is_available() else 'cpu')"
   ]
  },
  {
   "cell_type": "markdown",
   "source": [
    "### Load dataset"
   ],
   "metadata": {
    "collapsed": false,
    "pycharm": {
     "name": "#%% md\n"
    }
   }
  },
  {
   "cell_type": "code",
   "execution_count": 2,
   "outputs": [],
   "source": [
    "def split_dataset(dataset, dataset_split=[0.8, 0.1, 0.1]):\n",
    "    dataset_len = len(dataset)\n",
    "    dataset_split = [int(dataset_len * dataset_split[0]),\n",
    "                     int(dataset_len * dataset_split[1]),\n",
    "                     0]\n",
    "    dataset_split[2] = dataset_len - dataset_split[0] - dataset_split[1]\n",
    "    train_set, val_set, test_set = \\\n",
    "        random_split(dataset, dataset_split)\n",
    "\n",
    "    return {'train': train_set, 'val': val_set, 'test': test_set}\n",
    "\n",
    "dataset = MoleculeNet('datasets', 'Tox21')\n",
    "dataset.data.x = dataset.data.x.to(torch.float32)\n",
    "dataset.data.y = dataset.data.y[:, 2] # the target 2 task.\n",
    "dim_node = dataset.num_node_features\n",
    "dim_edge = dataset.num_edge_features\n",
    "num_targets = dataset.num_classes\n",
    "num_classes = 2\n",
    "\n",
    "splitted_dataset = split_dataset(dataset)\n",
    "dataloader = DataLoader(splitted_dataset['test'], batch_size=1, shuffle=False)"
   ],
   "metadata": {
    "collapsed": false,
    "pycharm": {
     "name": "#%%\n",
     "is_executing": false
    }
   }
  },
  {
   "cell_type": "markdown",
   "source": [
    "### Load model and checkpoints"
   ],
   "metadata": {
    "collapsed": false,
    "pycharm": {
     "name": "#%% md\n",
     "is_executing": false
    }
   }
  },
  {
   "cell_type": "code",
   "execution_count": 3,
   "outputs": [
    {
     "data": {
      "text/plain": "<All keys matched successfully>"
     },
     "metadata": {},
     "output_type": "execute_result",
     "execution_count": 3
    }
   ],
   "source": [
    "def check_checkpoints(root='./'):\n",
    "    if osp.exists(osp.join(root, 'checkpoints')):\n",
    "        return\n",
    "    url = ('https://github.com/divelab/DIG_storage/raw/main/xgraph/checkpoints.zip')\n",
    "    path = download_url(url, root)\n",
    "    extract_zip(path, root)\n",
    "    os.unlink(path)\n",
    "\n",
    "model = GCN_3l(model_level='graph', dim_node=dim_node, dim_hidden=300, num_classes=num_classes)\n",
    "model.to(device)\n",
    "check_checkpoints()\n",
    "ckpt_path = osp.join('checkpoints', 'tox21', 'GCN_3l', '2', 'GCN_3l_best.ckpt')\n",
    "model.load_state_dict(torch.load(ckpt_path)['state_dict'])"
   ],
   "metadata": {
    "collapsed": false,
    "pycharm": {
     "name": "#%%\n",
     "is_executing": false
    }
   }
  },
  {
   "cell_type": "markdown",
   "source": [
    "### Display example output"
   ],
   "metadata": {
    "collapsed": false,
    "pycharm": {
     "name": "#%% md\n",
     "is_executing": false
    }
   }
  },
  {
   "cell_type": "code",
   "execution_count": 4,
   "outputs": [
    {
     "name": "stdout",
     "text": [
      "tensor([[ 0.4697, -0.4392]], device='cuda:0', grad_fn=<AddmmBackward>)\n"
     ],
     "output_type": "stream"
    }
   ],
   "source": [
    "data = list(dataloader)[0].to(device)\n",
    "out = model(data.x, data.edge_index)\n",
    "print(out)"
   ],
   "metadata": {
    "collapsed": false,
    "pycharm": {
     "name": "#%%\n",
     "is_executing": false
    }
   }
  },
  {
   "cell_type": "markdown",
   "source": [
    "### Load the explainer"
   ],
   "metadata": {
    "collapsed": false,
    "pycharm": {
     "name": "#%% md\n",
     "is_executing": false
    }
   }
  },
  {
   "cell_type": "code",
   "execution_count": 5,
   "outputs": [],
   "source": [
    "from dig.xgraph.method import DeepLIFT\n",
    "explainer = DeepLIFT(model, explain_graph=True)"
   ],
   "metadata": {
    "collapsed": false,
    "pycharm": {
     "name": "#%%\n",
     "is_executing": false
    }
   }
  },
  {
   "cell_type": "markdown",
   "source": [
    "### Setup for evaluation"
   ],
   "metadata": {
    "collapsed": false,
    "pycharm": {
     "name": "#%% md\n"
    }
   }
  },
  {
   "cell_type": "code",
   "execution_count": 6,
   "outputs": [],
   "source": [
    "# --- Set the Sparsity to 0.5 ---\n",
    "sparsity = 0.5\n",
    "\n",
    "# --- Create data collector and explanation processor ---\n",
    "from dig.xgraph.evaluation import XCollector, ExplanationProcessor\n",
    "x_collector = XCollector(sparsity)\n",
    "# x_processor = ExplanationProcessor(model=model, device=device)"
   ],
   "metadata": {
    "collapsed": false,
    "pycharm": {
     "name": "#%%\n",
     "is_executing": false
    }
   }
  },
  {
   "cell_type": "markdown",
   "source": [
    "### Run explainer on the given model and dataset"
   ],
   "metadata": {
    "collapsed": false,
    "pycharm": {
     "name": "#%% md\n"
    }
   }
  },
  {
   "cell_type": "code",
   "execution_count": 7,
   "outputs": [
    {
     "name": "stdout",
     "text": [
      "explain graph line 6030\n",
      "explain graph line 4896\n",
      "explain graph line 2509\n",
      "explain graph line 412\n",
      "explain graph line 1176\n",
      "explain graph line 5451\n",
      "explain graph line 2554\n",
      "explain graph line 6299\n",
      "explain graph line 1475\n",
      "explain graph line 5348\n",
      "explain graph line 4173\n",
      "explain graph line 3192\n",
      "explain graph line 2938\n",
      "explain graph line 6386\n",
      "explain graph line 4968\n",
      "explain graph line 5186\n",
      "explain graph line 7583\n",
      "explain graph line 2196\n",
      "explain graph line 3207\n",
      "explain graph line 217\n",
      "explain graph line 4848\n",
      "explain graph line 3149\n",
      "explain graph line 7152\n",
      "explain graph line 3886\n",
      "explain graph line 3465\n",
      "explain graph line 4529\n",
      "explain graph line 2316\n",
      "explain graph line 5550\n",
      "explain graph line 5976\n",
      "explain graph line 3616\n",
      "explain graph line 768\n",
      "explain graph line 1089\n",
      "explain graph line 4621\n",
      "explain graph line 7093\n",
      "explain graph line 5230\n",
      "explain graph line 3979\n",
      "explain graph line 5548\n",
      "explain graph line 423\n",
      "explain graph line 1206\n",
      "explain graph line 4153\n",
      "explain graph line 802\n",
      "explain graph line 669\n",
      "explain graph line 5419\n",
      "explain graph line 2183\n",
      "explain graph line 1812\n",
      "explain graph line 3707\n",
      "explain graph line 5309\n",
      "explain graph line 6019\n",
      "explain graph line 7797\n",
      "explain graph line 3276\n",
      "explain graph line 4556\n",
      "explain graph line 3462\n",
      "explain graph line 3378\n",
      "explain graph line 7334\n",
      "explain graph line 2565\n",
      "explain graph line 1846\n",
      "explain graph line 3765\n",
      "explain graph line 5638\n",
      "explain graph line 4430\n",
      "explain graph line 7677\n",
      "explain graph line 1570\n",
      "explain graph line 3302\n",
      "explain graph line 4464\n",
      "explain graph line 1166\n",
      "explain graph line 6779\n",
      "explain graph line 3150\n",
      "explain graph line 4090\n",
      "explain graph line 3901\n",
      "explain graph line 5650\n",
      "explain graph line 3567\n",
      "explain graph line 7042\n",
      "explain graph line 2048\n",
      "explain graph line 3358\n",
      "explain graph line 3686\n",
      "explain graph line 6229\n",
      "explain graph line 698\n",
      "explain graph line 6943\n",
      "explain graph line 5389\n",
      "explain graph line 7060\n",
      "explain graph line 3824\n",
      "explain graph line 5431\n",
      "explain graph line 723\n",
      "explain graph line 1209\n",
      "explain graph line 4197\n",
      "explain graph line 6072\n",
      "explain graph line 5255\n",
      "explain graph line 3126\n",
      "explain graph line 4008\n",
      "explain graph line 7646\n",
      "explain graph line 4063\n",
      "explain graph line 5321\n",
      "explain graph line 3402\n",
      "explain graph line 3988\n",
      "explain graph line 388\n",
      "explain graph line 2281\n",
      "explain graph line 3515\n",
      "explain graph line 5778\n",
      "explain graph line 3696\n",
      "explain graph line 1608\n",
      "explain graph line 5598\n",
      "explain graph line 3955\n"
     ],
     "output_type": "stream"
    }
   ],
   "source": [
    "index = -1\n",
    "for index, data in enumerate(dataloader):\n",
    "    print(f'explain graph line {dataloader.dataset.indices[index] + 2}')\n",
    "    data.to(device)\n",
    "\n",
    "    if torch.isnan(data.y[0].squeeze()):\n",
    "        continue\n",
    "\n",
    "    walks, masks, related_preds = \\\n",
    "        explainer(data.x, data.edge_index, sparsity=sparsity, num_classes=num_classes)\n",
    "\n",
    "    x_collector.collect_data(masks, related_preds, data.y[0].squeeze().long().item())\n",
    "\n",
    "    # if you only have the edge masks without related_pred, please feed sparsity controlled mask to\n",
    "    # obtain the result: x_processor(data, masks, x_collector)\n",
    "\n",
    "    if index >= 99:\n",
    "        break"
   ],
   "metadata": {
    "collapsed": false,
    "pycharm": {
     "name": "#%%\n",
     "is_executing": false
    }
   }
  },
  {
   "cell_type": "markdown",
   "source": [
    "### Output metrics evaluation results"
   ],
   "metadata": {
    "collapsed": false,
    "pycharm": {
     "name": "#%% md\n"
    }
   }
  },
  {
   "cell_type": "code",
   "execution_count": 8,
   "outputs": [
    {
     "name": "stdout",
     "text": [
      "Fidelity: 0.1518\n",
      "Fidelity_inv: -0.1165\n",
      "Sparsity: 0.5000\n"
     ],
     "output_type": "stream"
    }
   ],
   "source": [
    "print(f'Fidelity: {x_collector.fidelity:.4f}\\n'\n",
    "      f'Fidelity_inv: {x_collector.fidelity_inv:.4f}\\n'\n",
    "      f'Sparsity: {x_collector.sparsity:.4f}')"
   ],
   "metadata": {
    "collapsed": false,
    "pycharm": {
     "name": "#%%\n",
     "is_executing": false
    }
   }
  },
  {
   "cell_type": "markdown",
   "source": [
    "For more details, please refer to [https://github.com/divelab/DIG/tree/dig/benchmarks/xgraph/supp/](https://github.com/divelab/DIG/tree/dig/benchmarks/xgraph/supp/)"
   ],
   "metadata": {
    "collapsed": false,
    "pycharm": {
     "name": "#%% md\n"
    }
   }
  }
 ],
 "metadata": {
  "kernelspec": {
   "display_name": "Python 3",
   "language": "python",
   "name": "python3"
  },
  "language_info": {
   "codemirror_mode": {
    "name": "ipython",
    "version": 2
   },
   "file_extension": ".py",
   "mimetype": "text/x-python",
   "name": "python",
   "nbconvert_exporter": "python",
   "pygments_lexer": "ipython2",
   "version": "2.7.6"
  },
  "pycharm": {
   "stem_cell": {
    "cell_type": "raw",
    "source": [],
    "metadata": {
     "collapsed": false
    }
   }
  }
 },
 "nbformat": 4,
 "nbformat_minor": 0
}